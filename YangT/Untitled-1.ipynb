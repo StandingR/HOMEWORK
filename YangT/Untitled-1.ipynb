{
 "cells": [
  {
   "cell_type": "code",
   "execution_count": null,
   "metadata": {},
   "outputs": [],
   "source": []
  },
  {
   "cell_type": "code",
   "execution_count": 2,
   "metadata": {},
   "outputs": [
    {
     "name": "stdout",
     "output_type": "stream",
     "text": [
      "0\n",
      "1\n",
      "2\n",
      "3\n"
     ]
    }
   ],
   "source": [
    "\n",
    "\n",
    "scores = [[10,15,20],[20,25,30],[30,35,40],[40,45,50]]\n",
    "n_subject = len(scores)\n",
    "n_class = len(scores[0]) # 과목갯수\n",
    "student_scores_means = list()\n",
    "\n",
    "#student_scores_mean1,student_scores_mean2,student_scores_mean3 = list()\n",
    "\n",
    "for subject in range(len(scores)): \n",
    "    print(subject)\n",
    "    \n",
    "    for subject_idx in range(n_class):\n",
    "        print(scores[subject][subject_idx])\n",
    "     #   if scores[subject][subject_idx] == 15:\n",
    "      #      print(scores[subject][subject_idx])"
   ]
  },
  {
   "cell_type": "code",
   "execution_count": null,
   "metadata": {},
   "outputs": [],
   "source": []
  }
 ],
 "metadata": {
  "kernelspec": {
   "display_name": "SeSAC",
   "language": "python",
   "name": "python3"
  },
  "language_info": {
   "codemirror_mode": {
    "name": "ipython",
    "version": 3
   },
   "file_extension": ".py",
   "mimetype": "text/x-python",
   "name": "python",
   "nbconvert_exporter": "python",
   "pygments_lexer": "ipython3",
   "version": "3.11.5"
  },
  "orig_nbformat": 4
 },
 "nbformat": 4,
 "nbformat_minor": 2
}
