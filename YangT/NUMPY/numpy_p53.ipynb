{
 "cells": [
  {
   "cell_type": "markdown",
   "source": [
    "np.reshape and ndarray.reshape<br/>\n",
    "\n",
    "### numpy.reshape(a, newshape, order = 'C')\n",
    "\n",
    "\n"
   ],
   "metadata": {
    "collapsed": false
   },
   "id": "9ebfc4b355796085"
  },
  {
   "cell_type": "code",
   "execution_count": 2,
   "id": "initial_id",
   "metadata": {
    "collapsed": true,
    "ExecuteTime": {
     "end_time": "2023-11-21T09:21:24.843237Z",
     "start_time": "2023-11-21T09:21:24.828441Z"
    }
   },
   "outputs": [
    {
     "name": "stdout",
     "output_type": "stream",
     "text": [
      "original ndarray: \n",
      " [0 1 2 3 4 5]\n",
      "reshaped ndarray: \n",
      " [[0 1 2]\n",
      " [3 4 5]]\n"
     ]
    }
   ],
   "source": [
    "import numpy as np\n",
    "\n",
    "a = np.arange(6)\n",
    "b = np.reshape(a, (2,3))\n",
    "\n",
    "print(\"original ndarray: \\n\", a)\n",
    "print(\"reshaped ndarray: \\n\", b)"
   ]
  },
  {
   "cell_type": "markdown",
   "source": [
    "## Changing ndarrays' shapes"
   ],
   "metadata": {
    "collapsed": false
   },
   "id": "77ff5c1bf5108e68"
  },
  {
   "cell_type": "markdown",
   "source": [
    "np.reshape and ndarray.reshape"
   ],
   "metadata": {
    "collapsed": false
   },
   "id": "dccfc16d89621280"
  },
  {
   "cell_type": "code",
   "execution_count": 3,
   "outputs": [
    {
     "name": "stdout",
     "output_type": "stream",
     "text": [
      "original ndarray: \n",
      " [ 0  1  2  3  4  5  6  7  8  9 10 11 12 13 14 15 16 17 18 19 20 21 22 23]\n",
      "reshaped ndarray: \n",
      " [[[ 0  1  2  3]\n",
      "  [ 4  5  6  7]\n",
      "  [ 8  9 10 11]]\n",
      "\n",
      " [[12 13 14 15]\n",
      "  [16 17 18 19]\n",
      "  [20 21 22 23]]]\n"
     ]
    }
   ],
   "source": [
    "import numpy as np\n",
    "\n",
    "a = np.arange(24)\n",
    "b = np.reshape(a,(2 ,3 ,4))\n",
    "\n",
    "print(\"original ndarray: \\n\",a)\n",
    "print(\"reshaped ndarray: \\n\",b)"
   ],
   "metadata": {
    "collapsed": false,
    "ExecuteTime": {
     "end_time": "2023-11-21T09:27:28.565667Z",
     "start_time": "2023-11-21T09:27:28.559992Z"
    }
   },
   "id": "2318d9e20419de9f"
  },
  {
   "cell_type": "markdown",
   "source": [
    "## -1 in np.reshape"
   ],
   "metadata": {
    "collapsed": false
   },
   "id": "f05528116488fb30"
  },
  {
   "cell_type": "code",
   "execution_count": 8,
   "outputs": [
    {
     "name": "stdout",
     "output_type": "stream",
     "text": [
      "a is original\n",
      " [ 0  1  2  3  4  5  6  7  8  9 10 11]\n",
      "a is original.shape\n",
      " (12,)\n",
      "a reshape\n",
      " (2, 6) (3, 4) (4, 3) (6, 2)\n"
     ]
    }
   ],
   "source": [
    "import numpy as np\n",
    "\n",
    "a = np.arange(12)\n",
    "print('a is original\\n',a)\n",
    "print('a is original.shape\\n',a.shape)\n",
    "b = a.reshape((2, -1))\n",
    "c = a.reshape((3, -1))\n",
    "d = a.reshape((4, -1))\n",
    "e = a.reshape((6, -1))\n",
    "\n",
    "# -1 을 하게 되면 row의 수 만큼, np.array를 잘라서 저장 \n",
    "print('a reshape\\n',b.shape, c.shape, d.shape, e.shape)\n"
   ],
   "metadata": {
    "collapsed": false,
    "ExecuteTime": {
     "end_time": "2023-11-21T09:36:11.737847Z",
     "start_time": "2023-11-21T09:36:11.733030Z"
    }
   },
   "id": "7f4e4bf47db59847"
  },
  {
   "cell_type": "markdown",
   "source": [
    "## -1 in np.reshape"
   ],
   "metadata": {
    "collapsed": false
   },
   "id": "9abe418aa90b5b01"
  },
  {
   "cell_type": "code",
   "execution_count": 9,
   "outputs": [
    {
     "name": "stdout",
     "output_type": "stream",
     "text": [
      "(6, 2) (4, 3) (3, 4) (2, 6)\n"
     ]
    }
   ],
   "source": [
    "import numpy as np\n",
    "\n",
    "a = np.arange(12)\n",
    "\n",
    "b = a.reshape((-1, 2))\n",
    "c = a.reshape((-1, 3))\n",
    "d = a.reshape((-1, 4))\n",
    "e = a.reshape((-1, 6))\n",
    "\n",
    "print(b.shape, c.shape,\n",
    "      d.shape, e.shape)"
   ],
   "metadata": {
    "collapsed": false,
    "ExecuteTime": {
     "end_time": "2023-11-21T09:38:46.982407Z",
     "start_time": "2023-11-21T09:38:46.957134Z"
    }
   },
   "id": "5a85c8a7f1be9bfb"
  },
  {
   "cell_type": "markdown",
   "source": [
    "## - Changing ndarray's shape\n",
    "\n",
    "-1 in np.reshape"
   ],
   "metadata": {
    "collapsed": false
   },
   "id": "79c22f0e940d9541"
  },
  {
   "cell_type": "code",
   "execution_count": 10,
   "outputs": [
    {
     "name": "stdout",
     "output_type": "stream",
     "text": [
      "[[0 5 3]\n",
      " [6 0 5]]\n",
      "(1, 6) (6, 1)\n"
     ]
    }
   ],
   "source": [
    "a = np.random.randint(0, 10, size=(2,3))\n",
    "\n",
    "print(a)\n",
    "\n",
    "# 앞에서 배운 reshape의 개념을 row와 columns에 적용시켜서,각 elemenat의 수를 -1 로 가져와서\n",
    "# reshape\n",
    "row_vector = a.reshape(1,-1)\n",
    "col_vector = a.reshape(-1,1)\n",
    "\n",
    "print(row_vector.shape, col_vector.shape)"
   ],
   "metadata": {
    "collapsed": false,
    "ExecuteTime": {
     "end_time": "2023-11-21T09:41:25.772787Z",
     "start_time": "2023-11-21T09:41:25.750885Z"
    }
   },
   "id": "cf2e7d2a2a3c8970"
  },
  {
   "cell_type": "markdown",
   "source": [
    "****매우 중요 자주 쓰임*********<br>\n",
    "\n",
    "## np.flatten\n",
    "\n",
    "ndarray.flatten(order='C')"
   ],
   "metadata": {
    "collapsed": false
   },
   "id": "76187a445e52810d"
  },
  {
   "cell_type": "code",
   "execution_count": 16,
   "outputs": [
    {
     "name": "stdout",
     "output_type": "stream",
     "text": [
      "numpy array로 생성 [0 1 2 3 4 5 6 7 8] \n",
      "\n",
      "numpy array로 생성 (9,) \n",
      "\n",
      "M을 (3,3) 형태로 변환 [[0 1 2]\n",
      " [3 4 5]\n",
      " [6 7 8]]\n",
      "\n",
      "M을 (3,3) 형태로 변환 (3, 3) \n",
      "\n",
      "변환한 거 펼쳐, flatten은 평평하니꼐  [0 1 2 3 4 5 6 7 8] \n",
      "\n",
      "변환한 거 펼쳐, flatten은 평평하니꼐  (9,) \n"
     ]
    }
   ],
   "source": [
    "import numpy as np\n",
    "\n",
    "M = np.arange(9)\n",
    "N = M.reshape((3,3))\n",
    "O = N.flatten()\n",
    "\n",
    "print(\"numpy array로 생성\",M, '\\n')\n",
    "print(\"numpy array로 생성\",M.shape, '\\n')\n",
    "print(\"M을 (3,3) 형태로 변환\",N)\n",
    "print(\"\\nM을 (3,3) 형태로 변환\",N.shape, '\\n')\n",
    "print(\"변환한 거 펼쳐, flatten은 평평하니꼐 \",O, '\\n')\n",
    "print(\"변환한 거 펼쳐, flatten은 평평하니꼐 \",O.shape, '\\n')"
   ],
   "metadata": {
    "collapsed": false,
    "ExecuteTime": {
     "end_time": "2023-11-21T09:51:24.202934Z",
     "start_time": "2023-11-21T09:51:24.197065Z"
    }
   },
   "id": "af23219d1ac98fb1"
  },
  {
   "cell_type": "code",
   "execution_count": 18,
   "outputs": [
    {
     "name": "stdout",
     "output_type": "stream",
     "text": [
      "M [ 0  1  2  3  4  5  6  7  8  9 10 11 12 13 14 15 16 17 18 19 20 21 22 23\n",
      " 24 25 26] \n",
      "\n",
      "M [ 0  1  2  3  4  5  6  7  8  9 10 11 12 13 14 15 16 17 18 19 20 21 22 23\n",
      " 24 25 26] \n",
      "\n",
      "N (3, 3) \n",
      "\n",
      "N [[0 1 2]\n",
      " [3 4 5]\n",
      " [6 7 8]] \n",
      "\n",
      "O [0 1 2 3 4 5 6 7 8] \n",
      "\n",
      "O (9,) \n"
     ]
    }
   ],
   "source": [
    "import numpy as np\n",
    "\n",
    "M = np.arange(27)\n",
    "n = M.reshape(3,3,3)\n",
    "O = N.flatten()\n",
    "\n",
    "print(\"M\",M, '\\n')\n",
    "print(\"M\",M, '\\n')\n",
    "print(\"N\",N.shape, '\\n')\n",
    "print(\"N\",N, '\\n')\n",
    "print(\"O\",O, '\\n')\n",
    "print(\"O\",O.shape, '\\n')"
   ],
   "metadata": {
    "collapsed": false,
    "ExecuteTime": {
     "end_time": "2023-11-21T09:54:38.620572Z",
     "start_time": "2023-11-21T09:54:38.616595Z"
    }
   },
   "id": "57a835c0a9b1f0be"
  },
  {
   "cell_type": "markdown",
   "source": [
    "## Lecture.6 Element-wise Operations and Broadcasting"
   ],
   "metadata": {
    "collapsed": false
   },
   "id": "2fafb49644b9c1e3"
  },
  {
   "cell_type": "markdown",
   "source": [
    "# Elenent - wise Operations of ndarrys\n",
    "\n",
    "# Vector - vector Case"
   ],
   "metadata": {
    "collapsed": false
   },
   "id": "fb764e9a88461211"
  },
  {
   "cell_type": "code",
   "execution_count": 20,
   "outputs": [
    {
     "name": "stdout",
     "output_type": "stream",
     "text": [
      "a: [-5 -2  3 -1 -3]\n",
      "b: [-1 -2  0 -1 -4] \n",
      "\n",
      "a + b: [-6 -4  3 -2 -7]\n"
     ]
    }
   ],
   "source": [
    "import numpy as np\n",
    "\n",
    "# -5 로 shape을 맞춰주면, BroadCast 기능을 통해서 자동으로 shape이 정해져서 결과값을 출력한다. \n",
    "a = np.random.randint(-5,5, (5,))\n",
    "b = np.random.randint(-5,5, (5,))\n",
    "\n",
    "print(\"a:\",a)\n",
    "print(\"b:\",b, '\\n')\n",
    "\n",
    "print(\"a + b:\",a + b)"
   ],
   "metadata": {
    "collapsed": false,
    "ExecuteTime": {
     "end_time": "2023-11-21T10:33:33.026051Z",
     "start_time": "2023-11-21T10:33:33.016559Z"
    }
   },
   "id": "8dd6758974fcf392"
  },
  {
   "cell_type": "code",
   "execution_count": 21,
   "outputs": [
    {
     "name": "stdout",
     "output_type": "stream",
     "text": [
      "a  [3 1 3 2 1]\n",
      "b  [2 2 2 4 2] \n",
      "\n",
      "a + b:  [5 3 5 6 3]\n",
      "a - b:  [ 1 -1  1 -2 -1]\n",
      "a * b:  [6 2 6 8 2]\n",
      "a / b:  [1.5 0.5 1.5 0.5 0.5]\n",
      "a // b:  [1 0 1 0 0]\n",
      "a % b:  [1 1 1 2 1]\n",
      "a ** b:  [ 9  1  9 16  1]\n"
     ]
    }
   ],
   "source": [
    "import numpy as np\n",
    "\n",
    "a = np.random.randint(1,5,(5,))\n",
    "b = np.random.randint(1,5,(5,))\n",
    "\n",
    "print(\"a \",a)\n",
    "print(\"b \",b, '\\n')\n",
    "\n",
    "print(\"a + b: \", a + b)\n",
    "print(\"a - b: \", a - b)\n",
    "print(\"a * b: \", a * b)\n",
    "print(\"a / b: \", a / b)\n",
    "print(\"a // b: \", a // b)\n",
    "print(\"a % b: \", a % b)\n",
    "print(\"a ** b: \", a ** b)"
   ],
   "metadata": {
    "collapsed": false,
    "ExecuteTime": {
     "end_time": "2023-11-21T10:37:08.668447Z",
     "start_time": "2023-11-21T10:37:08.614921Z"
    }
   },
   "id": "213fc611e48a32a1"
  },
  {
   "cell_type": "code",
   "execution_count": null,
   "outputs": [],
   "source": [],
   "metadata": {
    "collapsed": false
   },
   "id": "c834ea1e1c2b21b6"
  }
 ],
 "metadata": {
  "kernelspec": {
   "display_name": "Python 3",
   "language": "python",
   "name": "python3"
  },
  "language_info": {
   "codemirror_mode": {
    "name": "ipython",
    "version": 2
   },
   "file_extension": ".py",
   "mimetype": "text/x-python",
   "name": "python",
   "nbconvert_exporter": "python",
   "pygments_lexer": "ipython2",
   "version": "2.7.6"
  }
 },
 "nbformat": 4,
 "nbformat_minor": 5
}
