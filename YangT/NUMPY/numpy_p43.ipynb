{
 "cells": [
  {
   "cell_type": "markdown",
   "source": [
    "## shapes of ndarrays"
   ],
   "metadata": {
    "collapsed": false
   },
   "id": "bcc2133a57c03787"
  },
  {
   "cell_type": "code",
   "execution_count": 1,
   "id": "initial_id",
   "metadata": {
    "collapsed": true,
    "ExecuteTime": {
     "end_time": "2023-11-05T14:04:23.458981Z",
     "start_time": "2023-11-05T14:04:23.174456Z"
    }
   },
   "outputs": [
    {
     "name": "stdout",
     "output_type": "stream",
     "text": [
      "()\n",
      "(3,)\n",
      "(2, 2)\n",
      "(4, 3)\n",
      "0\n",
      "1\n",
      "2\n",
      "3\n"
     ]
    }
   ],
   "source": [
    "import numpy as np\n",
    "\n",
    "scalr_np = np.array(3.14)\n",
    "vec_np = np.array([1, 2, 3])\n",
    "mat_np = np.array(([1,2],[3,4]))\n",
    "tensor_np = np.array(([[1,2,3],\n",
    "                       [4,5,6,],\n",
    "                       \n",
    "                       [11, 12, 13],\n",
    "                       [14, 15, 16]]))\n",
    "\n",
    "print(scalr_np.shape)\n",
    "print(vec_np.shape)\n",
    "print(mat_np.shape)\n",
    "print(tensor_np.shape)\n",
    "\n",
    "print(len(()))\n",
    "print(len((3,)))\n",
    "print(len((2, 2)))\n",
    "print(len((2, 2, 3)))"
   ]
  },
  {
   "cell_type": "markdown",
   "source": [
    "# - with Shapes"
   ],
   "metadata": {
    "collapsed": false
   },
   "id": "633bfb3271f1f0ad"
  },
  {
   "cell_type": "code",
   "execution_count": 5,
   "outputs": [
    {
     "name": "stdout",
     "output_type": "stream",
     "text": [
      "M.shape : (2, 3)\n",
      "M.shape  [[0. 0. 0.]\n",
      " [0. 0. 0.]]\n",
      "M.shape : (2, 3)\n",
      "M: [[1. 1. 1.]\n",
      " [1. 1. 1.]]\n"
     ]
    }
   ],
   "source": [
    "# ndarrays with Specific Values\n",
    "\n",
    "import numpy as np\n",
    "# numpy.zeros(shape, dtype=float, order='c',like=None)\n",
    "\n",
    "M = np.zeros(shape=(2,3))\n",
    "\n",
    "print('M.shape :',M.shape)\n",
    "print('M.shape ',M)\n",
    "\n",
    "# numpy.ones(shape, dtype=None, order='C',*,like=None)\n",
    "\n",
    "M = np.ones(shape=(2,3))\n",
    "\n",
    "print('M.shape :',M.shape)\n",
    "print('M:',M)"
   ],
   "metadata": {
    "collapsed": false,
    "ExecuteTime": {
     "end_time": "2023-11-05T14:08:25.199927Z",
     "start_time": "2023-11-05T14:08:25.189385Z"
    }
   },
   "id": "dedd330a584bc35"
  },
  {
   "cell_type": "markdown",
   "source": [],
   "metadata": {
    "collapsed": false
   },
   "id": "257324a55f0c0e16"
  },
  {
   "cell_type": "code",
   "execution_count": 8,
   "outputs": [
    {
     "name": "stdout",
     "output_type": "stream",
     "text": [
      "M.shape : (2, 3)\n",
      "M : [[3.14 3.14 3.14]\n",
      " [3.14 3.14 3.14]]\n",
      "M.shape : (2, 3)\n",
      "M: [[3.14 3.14 3.14]\n",
      " [3.14 3.14 3.14]]\n"
     ]
    }
   ],
   "source": [
    "import numpy as np\n",
    "# numpy.full(shape,fill_value, dtype = None, order ='C', *, like = None)\n",
    "\n",
    "M = np.full(shape=(2, 3), fill_value=3.14)\n",
    "\n",
    "print('M.shape :',M.shape)\n",
    "print('M :',M)\n",
    "\n",
    "# numpy.empty(shape, dtype=float, order='C',*,like=None)\n",
    "\n",
    "import numpy as np\n",
    "\n",
    "M = np.empty(shape=(2, 3))\n",
    "\n",
    "print('M.shape :',M.shape)\n",
    "print('M:',M)"
   ],
   "metadata": {
    "collapsed": false,
    "ExecuteTime": {
     "end_time": "2023-11-05T14:13:46.596087Z",
     "start_time": "2023-11-05T14:13:46.591594Z"
    }
   },
   "id": "3ff2f85d4c5b1d8b"
  },
  {
   "cell_type": "markdown",
   "source": [
    "# Making ndarrays with Fixed Intervals"
   ],
   "metadata": {
    "collapsed": false
   },
   "id": "703342bd3d174641"
  },
  {
   "cell_type": "code",
   "execution_count": 10,
   "outputs": [
    {
     "name": "stdout",
     "output_type": "stream",
     "text": [
      "list_range(10) : [0, 1, 2, 3, 4, 5, 6, 7, 8, 9]\n",
      "list_range(2,5) : range(2, 5)\n",
      "list_range(2,10, step:2) : [2, 4, 6, 8]\n"
     ]
    }
   ],
   "source": [
    "# numpy.arange([start,]stop,[step,]dtype=None,*,like=None)\n",
    "\n",
    "print('list_range(10) :',list(range(10)))\n",
    "print('list_range(2,5) :',(range(2,5)))\n",
    "print('list_range(2,10, step:2) :',list(range(2, 10, 2)))"
   ],
   "metadata": {
    "collapsed": false,
    "ExecuteTime": {
     "end_time": "2023-11-05T14:17:41.525364Z",
     "start_time": "2023-11-05T14:17:41.522630Z"
    }
   },
   "id": "340de4fa7ae3361a"
  },
  {
   "cell_type": "markdown",
   "source": [
    "# Making ndarrays with Fixed intervals"
   ],
   "metadata": {
    "collapsed": false
   },
   "id": "71ec83d04a774d1e"
  },
  {
   "cell_type": "code",
   "execution_count": 12,
   "outputs": [
    {
     "name": "stdout",
     "output_type": "stream",
     "text": [
      "[ 0.  1.  2.  3.  4.  5.  6.  7.  8.  9. 10.]\n",
      "[1.5 2.5 3.5 4.5 5.5 6.5 7.5 8.5 9.5]\n",
      "[1.5 4.  6.5 9. ]\n"
     ]
    }
   ],
   "source": [
    "import numpy as np\n",
    "\n",
    "print(np.arange(10.5))\n",
    "print(np.arange(1.5, 10.5))\n",
    "print(np.arange(1.5, 10.5, 2.5))"
   ],
   "metadata": {
    "collapsed": false,
    "ExecuteTime": {
     "end_time": "2023-11-05T14:19:14.090050Z",
     "start_time": "2023-11-05T14:19:14.083866Z"
    }
   },
   "id": "9f0f1f6495073c8e"
  },
  {
   "cell_type": "markdown",
   "source": [
    "# Making ndarays with Fixes Points"
   ],
   "metadata": {
    "collapsed": false
   },
   "id": "376b9720a6b65a0d"
  },
  {
   "cell_type": "code",
   "execution_count": 13,
   "outputs": [
    {
     "name": "stdout",
     "output_type": "stream",
     "text": [
      "[0.   0.25 0.5  0.75 1.  ]\n",
      "[0.         0.11111111 0.22222222 0.33333333 0.44444444 0.55555556\n",
      " 0.66666667 0.77777778 0.88888889 1.        ]\n"
     ]
    }
   ],
   "source": [
    "# numpy.linspace(start,stop,num =50,endpoint=True, restep=False,dtype = None,axis =0)\n",
    "print(np.linspace(0, 1, 5))\n",
    "\n",
    "print(np.linspace(0, 1, 10))"
   ],
   "metadata": {
    "collapsed": false,
    "ExecuteTime": {
     "end_time": "2023-11-05T14:21:46.991035Z",
     "start_time": "2023-11-05T14:21:46.972348Z"
    }
   },
   "id": "cda0daaacc87a43e"
  },
  {
   "cell_type": "markdown",
   "source": [
    "from Normal Distributions\n",
    "random.randn(d-,d1,...dn)\n",
    "random.normal(loc=0.0, scale =1.0, size = None)\n",
    "## from Normal Distributions"
   ],
   "metadata": {
    "collapsed": false
   },
   "id": "c783e2ca4d24b905"
  },
  {
   "cell_type": "code",
   "execution_count": 1,
   "outputs": [
    {
     "name": "stdout",
     "output_type": "stream",
     "text": [
      "Requirement already satisfied: seaborn in /opt/homebrew/Caskroom/miniforge/base/envs/SeSAC/lib/python3.11/site-packages (0.12.2)\r\n",
      "Requirement already satisfied: numpy!=1.24.0,>=1.17 in /opt/homebrew/Caskroom/miniforge/base/envs/SeSAC/lib/python3.11/site-packages (from seaborn) (1.25.2)\r\n",
      "Requirement already satisfied: pandas>=0.25 in /opt/homebrew/Caskroom/miniforge/base/envs/SeSAC/lib/python3.11/site-packages (from seaborn) (2.0.3)\r\n",
      "Requirement already satisfied: matplotlib!=3.6.1,>=3.1 in /opt/homebrew/Caskroom/miniforge/base/envs/SeSAC/lib/python3.11/site-packages (from seaborn) (3.7.3)\r\n",
      "Requirement already satisfied: contourpy>=1.0.1 in /opt/homebrew/Caskroom/miniforge/base/envs/SeSAC/lib/python3.11/site-packages (from matplotlib!=3.6.1,>=3.1->seaborn) (1.1.1)\r\n",
      "Requirement already satisfied: cycler>=0.10 in /opt/homebrew/Caskroom/miniforge/base/envs/SeSAC/lib/python3.11/site-packages (from matplotlib!=3.6.1,>=3.1->seaborn) (0.11.0)\r\n",
      "Requirement already satisfied: fonttools>=4.22.0 in /opt/homebrew/Caskroom/miniforge/base/envs/SeSAC/lib/python3.11/site-packages (from matplotlib!=3.6.1,>=3.1->seaborn) (4.42.1)\r\n",
      "Requirement already satisfied: kiwisolver>=1.0.1 in /opt/homebrew/Caskroom/miniforge/base/envs/SeSAC/lib/python3.11/site-packages (from matplotlib!=3.6.1,>=3.1->seaborn) (1.4.5)\r\n",
      "Requirement already satisfied: packaging>=20.0 in /opt/homebrew/Caskroom/miniforge/base/envs/SeSAC/lib/python3.11/site-packages (from matplotlib!=3.6.1,>=3.1->seaborn) (23.1)\r\n",
      "Requirement already satisfied: pillow>=6.2.0 in /opt/homebrew/Caskroom/miniforge/base/envs/SeSAC/lib/python3.11/site-packages (from matplotlib!=3.6.1,>=3.1->seaborn) (10.0.1)\r\n",
      "Requirement already satisfied: pyparsing>=2.3.1 in /opt/homebrew/Caskroom/miniforge/base/envs/SeSAC/lib/python3.11/site-packages (from matplotlib!=3.6.1,>=3.1->seaborn) (3.1.1)\r\n",
      "Requirement already satisfied: python-dateutil>=2.7 in /opt/homebrew/Caskroom/miniforge/base/envs/SeSAC/lib/python3.11/site-packages (from matplotlib!=3.6.1,>=3.1->seaborn) (2.8.2)\r\n",
      "Requirement already satisfied: pytz>=2020.1 in /opt/homebrew/Caskroom/miniforge/base/envs/SeSAC/lib/python3.11/site-packages (from pandas>=0.25->seaborn) (2023.3.post1)\r\n",
      "Requirement already satisfied: tzdata>=2022.1 in /opt/homebrew/Caskroom/miniforge/base/envs/SeSAC/lib/python3.11/site-packages (from pandas>=0.25->seaborn) (2023.3)\r\n",
      "Requirement already satisfied: six>=1.5 in /opt/homebrew/Caskroom/miniforge/base/envs/SeSAC/lib/python3.11/site-packages (from python-dateutil>=2.7->matplotlib!=3.6.1,>=3.1->seaborn) (1.16.0)\r\n"
     ]
    }
   ],
   "source": [
    "!pip install seaborn"
   ],
   "metadata": {
    "collapsed": false,
    "ExecuteTime": {
     "end_time": "2023-11-06T10:27:11.775429Z",
     "start_time": "2023-11-06T10:27:07.560071Z"
    }
   },
   "id": "540d46630e4069bc"
  },
  {
   "cell_type": "code",
   "execution_count": 17,
   "outputs": [
    {
     "name": "stdout",
     "output_type": "stream",
     "text": [
      "(300,)\n"
     ]
    },
    {
     "name": "stderr",
     "output_type": "stream",
     "text": [
      "/var/folders/jd/bh7lkt8x4lzd_4_ph043hrgr0000gn/T/ipykernel_70467/1824719669.py:3: MatplotlibDeprecationWarning: The seaborn styles shipped by Matplotlib are deprecated since 3.6, as they no longer correspond to the styles shipped by seaborn. However, they will remain available as 'seaborn-v0_8-<style>'. Alternatively, directly use the seaborn API instead.\n",
      "  plt.style.use('seaborn')\n"
     ]
    },
    {
     "data": {
      "text/plain": "<Figure size 1000x500 with 1 Axes>",
      "image/png": "[encoded data removed]"
     },
     "metadata": {},
     "output_type": "display_data"
    }
   ],
   "source": [
    "import numpy as np\n",
    "import matplotlib.pyplot as plt\n",
    "plt.style.use('seaborn')\n",
    "\n",
    "fig, ax = plt.subplots(figsize=(10,5))\n",
    "\n",
    "random_values = np.random.randn(300)\n",
    "ax.hist(random_values, bins=20)\n",
    "print(random_values.shape)"
   ],
   "metadata": {
    "collapsed": false,
    "ExecuteTime": {
     "end_time": "2023-11-05T14:29:23.387196Z",
     "start_time": "2023-11-05T14:29:23.215139Z"
    }
   },
   "id": "dcc2b53f39f15a62"
  },
  {
   "cell_type": "markdown",
   "source": [
    "## from Random Distributions "
   ],
   "metadata": {
    "collapsed": false
   },
   "id": "b1fc51ea58eefdf6"
  },
  {
   "cell_type": "code",
   "execution_count": 18,
   "outputs": [],
   "source": [
    "# from Normal Distributions\n",
    "\n",
    "import numpy as np\n",
    "\n",
    "random_values = np.random.randn(300)"
   ],
   "metadata": {
    "collapsed": false,
    "ExecuteTime": {
     "end_time": "2023-11-05T14:30:58.415407Z",
     "start_time": "2023-11-05T14:30:58.400828Z"
    }
   },
   "id": "bc3e3ace98793065"
  },
  {
   "cell_type": "markdown",
   "source": [
    "## from Random Distributions "
   ],
   "metadata": {
    "collapsed": false
   },
   "id": "89b8582db0d5b068"
  },
  {
   "cell_type": "code",
   "execution_count": 19,
   "outputs": [],
   "source": [
    "import numpy as np\n",
    "\n",
    "normal1 = np.random.normal(loc=2, scale=1, size=(200,))\n",
    "normal2 = np.random.normal(loc=0, scale=2, size=(200,))\n",
    "normal3 = np.random.normal(loc=3, scale=5, size=(200,))"
   ],
   "metadata": {
    "collapsed": false,
    "ExecuteTime": {
     "end_time": "2023-11-05T14:32:25.310140Z",
     "start_time": "2023-11-05T14:32:25.293390Z"
    }
   },
   "id": "64b43280a7a4065d"
  },
  {
   "cell_type": "markdown",
   "source": [
    "## from Normal Distributions"
   ],
   "metadata": {
    "collapsed": false
   },
   "id": "481f5d308c4e9c31"
  },
  {
   "cell_type": "code",
   "execution_count": 23,
   "outputs": [
    {
     "name": "stdout",
     "output_type": "stream",
     "text": [
      "[[ -1.69431782  -1.86613474   8.53491801]\n",
      " [ -2.99718459   0.97481647   2.14862523]\n",
      " [ -0.82067711  -1.29912088   2.53539163]\n",
      " [ -1.40004729  -0.364165    -4.21312852]\n",
      " [ -2.9466877   -0.89162969   4.73224236]\n",
      " [ -1.8584319   -2.09955536  -1.58950211]\n",
      " [ -3.8994804   -1.80304341  -2.2899079 ]\n",
      " [ -2.22077947   1.29014767   2.12047129]\n",
      " [ -2.4448144    3.28426421  12.14872492]\n",
      " [ -1.46539376  -2.32232253  -6.75116606]\n",
      " [ -0.512814    -1.61661995   0.91378067]\n",
      " [ -3.15485168   3.66642469   5.38771157]\n",
      " [ -1.95784087  -1.41937948   6.02509518]\n",
      " [ -3.81568249  -1.32451072   8.35968193]\n",
      " [ -3.07565631   3.43973676   4.05149692]\n",
      " [ -2.16233899   3.29300428  12.66635833]\n",
      " [ -0.68532229   1.29048049  -2.43836735]\n",
      " [ -1.5471058    0.35035928   4.92749723]\n",
      " [ -0.41352353  -0.37817263  -0.33926797]\n",
      " [ -3.01407775  -1.88716888   6.26339573]\n",
      " [ -1.70027327  -0.09068591   6.22989107]\n",
      " [ -2.33638164  -1.55130847  -0.07809353]\n",
      " [ -1.96458535   1.73793208   1.93089939]\n",
      " [ -1.57087428  -2.7904104    0.58486597]\n",
      " [ -0.94179366   0.62209398  -2.91973349]\n",
      " [ -2.92876077  -2.59183275   3.47355656]\n",
      " [ -2.38290855   0.61191893   4.00554235]\n",
      " [ -2.97207234   1.08780061  -2.55270947]\n",
      " [ -1.22486328  -2.86500733  -3.86385108]\n",
      " [ -1.31532252  -0.30735828   1.21795344]\n",
      " [ -0.82445285  -1.22013864  -1.68202685]\n",
      " [ -3.49928396  -0.46663495  -6.56334995]\n",
      " [ -1.99712618   1.62907006   1.49829979]\n",
      " [ -0.76693281   0.79146522   1.49104419]\n",
      " [ -3.4401863   -0.08405037   3.64412814]\n",
      " [ -1.8604549    0.26381756   9.87439522]\n",
      " [ -1.0439714   -1.97215994   5.24841209]\n",
      " [ -0.26364794   1.3370372   -2.33368209]\n",
      " [ -0.77487101   0.54601875  -4.40180277]\n",
      " [ -2.27091102   0.35547046   8.43380199]\n",
      " [ -3.57983056   2.60470912   7.76561288]\n",
      " [ -2.09303333   3.81702113  15.95621334]\n",
      " [ -1.544185     1.10804029   4.12854827]\n",
      " [ -2.98298598  -0.06907246   3.70900094]\n",
      " [ -4.36399325   1.81635214   5.53112716]\n",
      " [ -0.62640329   0.15996142   0.57516578]\n",
      " [ -1.52987528  -3.43328568  11.4042271 ]\n",
      " [ -2.36593003  -1.22776524  11.33055794]\n",
      " [ -1.71049046   0.73539266  -3.52031098]\n",
      " [ -1.58638266   3.79995805  -0.52963181]\n",
      " [ -0.26040118  -0.02772205   5.89650509]\n",
      " [ -1.10356858  -2.32383439   0.13418972]\n",
      " [ -2.46844253  -1.85710742  13.330209  ]\n",
      " [ -3.50340787   0.068525    -2.67196022]\n",
      " [ -3.11452632   0.33093085   7.80246919]\n",
      " [ -1.40926571   0.94683511   2.42123229]\n",
      " [ -0.60683867  -0.09176864   7.3268453 ]\n",
      " [ -1.90891051  -1.6166894   -1.80528811]\n",
      " [ -2.48502022   0.56515468  11.87090842]\n",
      " [ -3.75837199   3.23481257   8.86252977]\n",
      " [ -1.04474796  -0.0987338    6.9818235 ]\n",
      " [ -1.76683488  -2.80829896   7.1414185 ]\n",
      " [ -1.69544527  -0.04063045   5.54950002]\n",
      " [ -3.79998953  -2.70221465   7.21808071]\n",
      " [ -0.11171993  -2.08645609  16.67930802]\n",
      " [ -3.31299652  -2.38333264  -0.74224   ]\n",
      " [ -3.09586478   1.10284628  -8.34249788]\n",
      " [ -2.50718975   0.74814418  -3.08407682]\n",
      " [ -4.01094477  -0.86285014   2.4276404 ]\n",
      " [ -1.61469877  -0.94558548   4.43176388]\n",
      " [ -1.90728681   0.41202572   5.99831426]\n",
      " [ -4.22849562   1.78277589   6.1510961 ]\n",
      " [ -3.3477476   -1.99100162  10.51744097]\n",
      " [ -3.32169042  -1.03572896  -1.76620751]\n",
      " [ -1.23776503   2.55799824  12.49647507]\n",
      " [ -0.64548203  -0.46015009   0.85058993]\n",
      " [ -0.36895892  -2.6389888   -7.09153229]\n",
      " [ -1.16280012   0.09238852   1.28482613]\n",
      " [ -1.3800194    0.64219356   7.31761917]\n",
      " [ -2.59182425   0.62532578   8.02401694]\n",
      " [ -2.49508274  -0.09000652   4.93075721]\n",
      " [ -0.8114449    1.67598505  -1.08305753]\n",
      " [ -2.06932667  -1.17450556  10.01290574]\n",
      " [ -3.93149306   5.74118129   9.50100803]\n",
      " [ -0.93315328   0.04009082  -0.72376828]\n",
      " [ -2.91237988   1.56267768   4.42840379]\n",
      " [ -2.7916167    0.2512606    3.41123654]\n",
      " [ -2.44454104   2.27708153   9.66849781]\n",
      " [ -2.65555225  -2.70961786  11.26594329]\n",
      " [ -2.09433712   0.57647776  -0.75505986]\n",
      " [ -0.17407682  -0.67307997  -0.5547286 ]\n",
      " [ -0.76111907   3.6520408    2.53274573]\n",
      " [ -1.3557756    3.32634348   3.97871236]\n",
      " [ -1.79950568   1.153318    -2.12371715]\n",
      " [ -1.29590746   4.08654937   0.21281889]\n",
      " [ -1.84325704   0.78165469   4.51590803]\n",
      " [ -1.40890321  -3.20945052   5.19006674]\n",
      " [ -0.78682406   1.82464872  -0.41613344]\n",
      " [ -2.40157175   3.02652087  -5.31042779]\n",
      " [ -1.35578258  -1.79950094   2.34470312]\n",
      " [ -1.36842168   1.19694059  12.04045397]\n",
      " [ -2.01832471   3.87983825  -0.4834125 ]\n",
      " [ -3.13453632  -1.40788746   8.85744453]\n",
      " [ -1.48214683  -1.71581693   8.40539592]\n",
      " [ -1.81102758  -1.01756385   3.16650205]\n",
      " [ -1.21008919   1.36395848   2.97155502]\n",
      " [ -2.74678397  -0.31531225  10.87446932]\n",
      " [ -1.91599797   2.64001019  -6.66309323]\n",
      " [ -1.52837869  -1.25490406  -6.39054907]\n",
      " [ -1.66586378  -0.3128461    4.21177474]\n",
      " [ -1.4509095    0.44924013   7.44019044]\n",
      " [ -0.11080146   3.29715841  -2.10321333]\n",
      " [ -2.59441371   0.77675766   6.85685827]\n",
      " [ -2.82882417  -3.74732703  12.18079743]\n",
      " [ -1.04103737   0.91348294   0.96760725]\n",
      " [ -2.43454313   0.94594416   1.42082311]\n",
      " [ -1.71083623  -2.17668456   2.37958515]\n",
      " [ -1.40256448   2.04767941   8.60298176]\n",
      " [ -3.51984882   0.07507925  -1.32114897]\n",
      " [ -4.15526957   1.0456623    0.50347584]\n",
      " [ -2.40187631  -1.49608767   5.79038493]\n",
      " [ -0.93258591   0.80463937  -1.56914481]\n",
      " [ -3.25888507   1.96702154   2.30592521]\n",
      " [ -1.66608319   1.70550166   2.31787365]\n",
      " [ -2.04890745  -0.3343163    6.56852897]\n",
      " [ -2.35110293   1.58027841   3.52751816]\n",
      " [ -2.19131907  -4.2128328    8.49875266]\n",
      " [ -2.41319462  -1.59931713   8.05968274]\n",
      " [ -2.24519788  -2.23603743   6.48277354]\n",
      " [ -2.27010362  -0.33626849   1.08074207]\n",
      " [ -3.42613149  -4.62789638  10.57067079]\n",
      " [ -0.74644413   2.33957375  -6.33621228]\n",
      " [ -2.0448416   -0.47536967   0.2672782 ]\n",
      " [ -2.36120641  -0.74957292   2.40351847]\n",
      " [ -1.34340964   0.57459092   2.17494593]\n",
      " [ -2.04874918  -2.54781337   3.39810619]\n",
      " [ -1.38855893   1.60939903   0.14063174]\n",
      " [ -2.65510874  -0.55407062   1.60083132]\n",
      " [ -3.52501333   2.95231699   3.74406183]\n",
      " [ -2.0596378   -2.17546634   5.24419357]\n",
      " [ -0.37845951   3.09258296   1.31832858]\n",
      " [ -2.68057514   1.66172716   3.98785902]\n",
      " [ -1.30601681   0.56236534   2.6152044 ]\n",
      " [ -3.22810628   1.34161307   2.05784635]\n",
      " [ -2.11631671   3.40333726   5.5434557 ]\n",
      " [ -1.0591618    1.41008734   5.521638  ]\n",
      " [ -2.53591516   3.61963061   4.06734857]\n",
      " [ -1.14573615   1.03291623  11.64294332]\n",
      " [ -2.28517304   2.08241103  -6.58405746]\n",
      " [ -3.85515257  -0.9279479  -18.34250326]\n",
      " [ -1.78733714   1.87687007   5.24809   ]\n",
      " [  0.52861208   0.36339847   6.51890613]\n",
      " [ -2.61568535   0.54014968   2.26203594]\n",
      " [ -3.45856562  -2.38627829   7.23328134]\n",
      " [ -2.77576203   0.78380569   0.46818431]\n",
      " [ -2.05296851   0.22876163  -1.18035704]\n",
      " [ -0.10638417   0.85650961  -2.79888611]\n",
      " [ -0.13345848  -1.84680365  10.42663798]\n",
      " [ -2.94619327   1.03071842  12.04532514]\n",
      " [ -3.68135548  -1.82315141   3.43544795]\n",
      " [ -1.41240815  -2.60525271  -0.27348428]\n",
      " [ -2.64402053   3.24653026   6.43477653]\n",
      " [ -1.96893939  -0.1372756    5.91597661]\n",
      " [ -2.82403777   0.27129267   2.03598737]\n",
      " [ -1.20127471   1.00691078  11.09476709]\n",
      " [ -0.91500197  -2.06614041  -0.02960206]\n",
      " [ -1.99418555   1.42699731   4.17898788]\n",
      " [ -1.77152071   0.19598985   7.82911788]\n",
      " [ -2.53510711   2.81489674  -3.5271269 ]\n",
      " [ -3.49621773   1.92814175   6.51032854]\n",
      " [ -1.74743943   1.30383608   0.07129127]\n",
      " [ -0.37582634   3.00354777  -0.14758049]\n",
      " [ -1.89341447   0.30770113   2.90281426]\n",
      " [ -1.86474252   1.71022355   3.31725396]\n",
      " [ -1.71252688  -2.77868782   5.65229365]\n",
      " [ -3.55812315   1.15721332  -8.57980047]\n",
      " [ -1.74500281  -1.32537174  -0.5209446 ]\n",
      " [ -4.35434226  -0.47273358  -1.75111742]\n",
      " [ -3.02112893   1.14721272   6.60240116]\n",
      " [ -4.15143055  -0.40924717   3.25181592]\n",
      " [ -0.9523434   -1.50595989   4.60600999]\n",
      " [ -0.86476016  -1.45315204   5.20699874]\n",
      " [ -2.45312551   1.30276906  -1.18627489]\n",
      " [ -1.50807001   0.16409106   0.91776337]\n",
      " [ -1.51076826   2.55921809   2.53270711]\n",
      " [ -1.51463876  -0.3746979    2.72549023]\n",
      " [ -0.57133922  -4.96260506   5.10707433]\n",
      " [ -1.02384743  -1.00529864  -1.53528728]\n",
      " [ -2.00301289   5.06502727   7.85101789]\n",
      " [ -1.40907917  -3.47842618   2.38347046]\n",
      " [ -1.47146945   2.78201949   1.82893761]\n",
      " [ -2.11571178  -0.83050529  -1.19088633]\n",
      " [ -3.10050083   0.45624334  -0.62663727]\n",
      " [ -4.55133658  -0.65438978   1.89168981]\n",
      " [ -0.44869265  -1.67821694  -2.06787525]\n",
      " [ -1.24848338  -0.55547672  11.09577055]\n",
      " [ -3.2927352    3.17610071   2.75023134]\n",
      " [ -1.42295818   0.99652056  -0.32381566]\n",
      " [ -1.72739867   0.43748395   3.37521772]\n",
      " [ -2.53394054  -1.89959126  10.38519435]]\n",
      "(200, 3)\n"
     ]
    }
   ],
   "source": [
    "import numpy as np\n",
    "\n",
    "normal = np.random.normal(loc=[-2, 0, 3],\n",
    "                          scale=[1, 2, 5],\n",
    "                          size=(200, 3))\n",
    "print(normal)\n",
    "print(normal.shape)"
   ],
   "metadata": {
    "collapsed": false,
    "ExecuteTime": {
     "end_time": "2023-11-05T14:33:52.427692Z",
     "start_time": "2023-11-05T14:33:52.421543Z"
    }
   },
   "id": "a83a6d6cf46f3e0f"
  },
  {
   "cell_type": "code",
   "execution_count": 24,
   "outputs": [
    {
     "name": "stdout",
     "output_type": "stream",
     "text": [
      "[[-0.89234258 -1.41286019 -2.2777378 ]\n",
      " [-1.21020787 -0.50590707 -1.07311182]\n",
      " [-0.40401218 -1.36474969 -1.89350493]]\n"
     ]
    }
   ],
   "source": [
    "import numpy as np\n",
    "\n",
    "normal = np.random.normal(loc=-2, scale=1, size=(3,3))\n",
    "print(normal)"
   ],
   "metadata": {
    "collapsed": false,
    "ExecuteTime": {
     "end_time": "2023-11-05T14:34:58.237612Z",
     "start_time": "2023-11-05T14:34:58.217254Z"
    }
   },
   "id": "c78ba6fff8ac9c4c"
  },
  {
   "cell_type": "markdown",
   "source": [],
   "metadata": {
    "collapsed": false
   },
   "id": "2bf761150dc7856f"
  },
  {
   "cell_type": "markdown",
   "source": [
    "random.rand(d0,d1,..., dn)\n",
    "random.uniform(low=0.0, high = 1.0, size=None)\n",
    "random.randint(low,high=None, size= None, dtype=int)"
   ],
   "metadata": {
    "collapsed": false
   },
   "id": "b8531f2822d920b4"
  },
  {
   "cell_type": "code",
   "execution_count": 2,
   "outputs": [
    {
     "name": "stdout",
     "output_type": "stream",
     "text": [
      "(1000,)\n"
     ]
    },
    {
     "data": {
      "text/plain": "<Figure size 1000x500 with 1 Axes>",
      "image/png": "[encoded data removed]"
     },
     "metadata": {},
     "output_type": "display_data"
    }
   ],
   "source": [
    "import numpy as np\n",
    "import matplotlib.pyplot as plt\n",
    "\n",
    "fig, ax = plt.subplots(figsize=(10,5))\n",
    "\n",
    "uniform = np.random.rand(1000)\n",
    "ax.hist(uniform)\n",
    "print(uniform.shape)"
   ],
   "metadata": {
    "collapsed": false,
    "ExecuteTime": {
     "end_time": "2023-11-06T10:31:52.062373Z",
     "start_time": "2023-11-06T10:31:51.045566Z"
    }
   },
   "id": "face1803805552a2"
  },
  {
   "cell_type": "markdown",
   "source": [
    "# from Uniform Distributions "
   ],
   "metadata": {
    "collapsed": false
   },
   "id": "b13829c568cb6f6d"
  },
  {
   "cell_type": "code",
   "execution_count": 3,
   "outputs": [
    {
     "name": "stdout",
     "output_type": "stream",
     "text": [
      "(2, 3, 4)\n"
     ]
    }
   ],
   "source": [
    "import numpy as np\n",
    "\n",
    "uniform = np.random.rand(2, 3, 4)\n",
    "print(uniform.shape)"
   ],
   "metadata": {
    "collapsed": false,
    "ExecuteTime": {
     "end_time": "2023-11-06T10:33:13.390658Z",
     "start_time": "2023-11-06T10:33:13.361722Z"
    }
   },
   "id": "53d843b03fba5d09"
  },
  {
   "cell_type": "markdown",
   "source": [
    "# from Unirform Distributions "
   ],
   "metadata": {
    "collapsed": false
   },
   "id": "58ae3380e1844ebd"
  },
  {
   "cell_type": "code",
   "execution_count": 9,
   "outputs": [
    {
     "data": {
      "text/plain": "(array([    0.,     0.,     0.,     0.,     0.,     0.,     0.,     0.,\n            0.,     0., 10000.,     0.,     0.,     0.,     0.,     0.,\n            0.,     0.,     0.,     0.]),\n array([ 9.5 ,  9.55,  9.6 ,  9.65,  9.7 ,  9.75,  9.8 ,  9.85,  9.9 ,\n         9.95, 10.  , 10.05, 10.1 , 10.15, 10.2 , 10.25, 10.3 , 10.35,\n        10.4 , 10.45, 10.5 ]),\n <BarContainer object of 20 artists>)"
     },
     "execution_count": 9,
     "metadata": {},
     "output_type": "execute_result"
    },
    {
     "data": {
      "text/plain": "<Figure size 1000x500 with 1 Axes>",
      "image/png": "[encoded data removed]"
     },
     "metadata": {},
     "output_type": "display_data"
    }
   ],
   "source": [
    "import numpy as np\n",
    "import matplotlib.pyplot as plt\n",
    "\n",
    "fig, ax = plt.subplots(figsize=(10,5))\n",
    "\n",
    "uniform = np.random.uniform(low=10, high=10, size=(10000,))\n",
    "ax.hist(uniform, bins=20)"
   ],
   "metadata": {
    "collapsed": false,
    "ExecuteTime": {
     "end_time": "2023-11-06T10:36:23.443932Z",
     "start_time": "2023-11-06T10:36:23.313277Z"
    }
   },
   "id": "87fc49b45c3632ad"
  },
  {
   "cell_type": "code",
   "execution_count": 10,
   "outputs": [
    {
     "name": "stdout",
     "output_type": "stream",
     "text": [
      "[5 4 5 1 6 3 4 3 5 1 4 3 6 2 0 4 1 2 4 4]\n"
     ]
    }
   ],
   "source": [
    "import numpy as np\n",
    "\n",
    "randint = np.random.randint(low=0, high=7, size=(20,))\n",
    "print(randint)"
   ],
   "metadata": {
    "collapsed": false,
    "ExecuteTime": {
     "end_time": "2023-11-06T10:37:22.950455Z",
     "start_time": "2023-11-06T10:37:22.922824Z"
    }
   },
   "id": "f4e0df861f32e7f9"
  },
  {
   "cell_type": "markdown",
   "source": [
    "ndarray.shape"
   ],
   "metadata": {
    "collapsed": false
   },
   "id": "c2744d281b9bd42e"
  },
  {
   "cell_type": "code",
   "execution_count": 11,
   "outputs": [
    {
     "name": "stdout",
     "output_type": "stream",
     "text": [
      "a: (3,)\n",
      "[1 2 3]\n",
      "\n",
      "b: (1, 3)\n",
      "[[1 2 3]]\n",
      "\n",
      "c: (3, 1)\n",
      "[[1]\n",
      " [2]\n",
      " [3]]\n"
     ]
    }
   ],
   "source": [
    "import numpy as np\n",
    "\n",
    "a = np.array([1, 2, 3])\n",
    "b = np.array([[1, 2, 3]])\n",
    "c = np.array([[1], [2], [3]])\n",
    "\n",
    "print(f\"a: {a.shape}\\n{a}\\n\")\n",
    "print(f\"b: {b.shape}\\n{b}\\n\")\n",
    "print(f\"c: {c.shape}\\n{c}\\n\")"
   ],
   "metadata": {
    "collapsed": false,
    "ExecuteTime": {
     "end_time": "2023-11-06T10:39:35.752679Z",
     "start_time": "2023-11-06T10:39:35.715357Z"
    }
   },
   "id": "ccba874af5326789"
  },
  {
   "cell_type": "markdown",
   "source": [
    "- ndim, shape, and size\n",
    "# ndarray.size"
   ],
   "metadata": {
    "collapsed": false
   },
   "id": "8708aa30ba86bbeb"
  },
  {
   "cell_type": "code",
   "execution_count": 12,
   "outputs": [
    {
     "name": "stdout",
     "output_type": "stream",
     "text": [
      "Size of M 10\n",
      "Size of N 12\n",
      "Size of O 60\n",
      "Size of P 720\n"
     ]
    }
   ],
   "source": [
    "import numpy as np\n",
    "\n",
    "M = np.ones(shape=(10,))\n",
    "N = np.ones(shape=(3,4))\n",
    "O = np.ones(shape=(3,4,5))\n",
    "P = np.ones(shape=(2, 3, 4, 5, 6))\n",
    "\n",
    "print(\"Size of M\", M.size)\n",
    "print(\"Size of N\", N.size)\n",
    "print(\"Size of O\", O.size)\n",
    "print(\"Size of P\", P.size)"
   ],
   "metadata": {
    "collapsed": false,
    "ExecuteTime": {
     "end_time": "2023-11-06T10:42:17.232625Z",
     "start_time": "2023-11-06T10:42:17.205015Z"
    }
   },
   "id": "d4d5155334f4bf80"
  },
  {
   "cell_type": "code",
   "execution_count": null,
   "outputs": [],
   "source": [],
   "metadata": {
    "collapsed": false
   },
   "id": "e639b5c24065dc2c"
  }
 ],
 "metadata": {
  "kernelspec": {
   "display_name": "Python 3",
   "language": "python",
   "name": "python3"
  },
  "language_info": {
   "codemirror_mode": {
    "name": "ipython",
    "version": 2
   },
   "file_extension": ".py",
   "mimetype": "text/x-python",
   "name": "python",
   "nbconvert_exporter": "python",
   "pygments_lexer": "ipython2",
   "version": "2.7.6"
  }
 },
 "nbformat": 4,
 "nbformat_minor": 5
}
