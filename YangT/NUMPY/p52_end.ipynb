{
 "cells": [
  {
   "cell_type": "markdown",
   "source": [
    "## Vector-vector Case\n",
    "### Element-wise Operations of ndarrays"
   ],
   "metadata": {
    "collapsed": false
   },
   "id": "879a8ebcc4c70ca0"
  },
  {
   "cell_type": "code",
   "execution_count": 1,
   "id": "initial_id",
   "metadata": {
    "collapsed": true,
    "ExecuteTime": {
     "end_time": "2023-11-27T10:11:25.911177Z",
     "start_time": "2023-11-27T10:11:25.776849Z"
    }
   },
   "outputs": [
    {
     "name": "stdout",
     "output_type": "stream",
     "text": [
      "a  [1 3 1 3 1]\n",
      "b  [2 3 4 4 1] \n",
      "\n",
      " a + b  [3 6 5 7 2]\n",
      " a - b  [-1  0 -3 -1  0]\n",
      " a * b  [ 2  9  4 12  1]\n",
      " a / b  [0.5  1.   0.25 0.75 1.  ]\n",
      " a // b  [0 1 0 0 1]\n",
      " a % b  [1 0 1 3 0]\n",
      " a ** b  [ 1 27  1 81  1]\n"
     ]
    }
   ],
   "source": [
    "# 52\n",
    "import numpy as np\n",
    "\n",
    "# 1부터 5까지 정수형 난수 생성, 이떄 생성되는 array a,b는 np.array\n",
    "# 따리서 Elemnet-Wise Operations 가능!\n",
    "a = np.random.randint(1, 5, (5,))\n",
    "b = np.random.randint(1, 5, (5,))\n",
    "\n",
    "print(\"a \",a)\n",
    "print(\"b \",b,'\\n')\n",
    "\n",
    "print(\" a + b \", a + b)\n",
    "print(\" a - b \", a - b)\n",
    "print(\" a * b \", a * b)\n",
    "# / 나누기\n",
    "print(\" a / b \", a / b)\n",
    "# 몫\n",
    "print(\" a // b \", a // b)\n",
    "# 나머지\n",
    "print(\" a % b \", a % b)\n",
    "# 제곱\n",
    "print(\" a ** b \", a ** b)\n"
   ]
  },
  {
   "cell_type": "code",
   "execution_count": 2,
   "outputs": [
    {
     "name": "stdout",
     "output_type": "stream",
     "text": [
      "a:  [4 3 1 3 2]\n",
      "b:  [2 2 3 1 2] \n",
      "\n",
      "a > b [ True  True False  True False]\n",
      "a >= b [ True  True False  True False]\n",
      "a < b [ True  True False  True False]\n",
      "a <= b [ True  True False  True False]\n",
      "a <= b [ True  True False  True False]\n",
      "a == b [ True  True False  True False]\n",
      "a != b [ True  True False  True False]\n"
     ]
    }
   ],
   "source": [
    "#53\n",
    "\n",
    "import numpy as np\n",
    "\n",
    "a = np.random.randint(1, 5, (5,))\n",
    "b = np.random.randint(1, 5, (5,))\n",
    "\n",
    "print(\"a: \",a)\n",
    "print(\"b: \",b, '\\n')\n",
    "\n",
    "print(\"a > b\", a > b)\n",
    "print(\"a >= b\", a > b)\n",
    "print(\"a < b\", a > b)\n",
    "print(\"a <= b\", a > b)\n",
    "print(\"a <= b\", a > b)\n",
    "# 같다 == \n",
    "print(\"a == b\", a > b)\n",
    "# 다르다\n",
    "print(\"a != b\", a > b)"
   ],
   "metadata": {
    "collapsed": false,
    "ExecuteTime": {
     "end_time": "2023-11-27T10:15:32.638280Z",
     "start_time": "2023-11-27T10:15:32.625157Z"
    }
   },
   "id": "2e2870737eaf859d"
  },
  {
   "cell_type": "code",
   "execution_count": 4,
   "outputs": [
    {
     "name": "stdout",
     "output_type": "stream",
     "text": [
      "a  [4 2 2 1 1]\n",
      "b  [1 4 3 1 4] \n",
      "\n",
      " a + b [5 6 5 2 5]\n",
      " a - b [ 3 -2 -1  0 -3]\n",
      " a * b [4 8 6 1 4]\n",
      " a / b [4.         0.5        0.66666667 1.         0.25      ]\n",
      " a // b [4 0 0 1 0]\n",
      " a % b [0 2 2 0 1]\n",
      " a ** b [ 4 16  8  1  1]\n"
     ]
    }
   ],
   "source": [
    "# 54\n",
    "import numpy as np\n",
    "\n",
    "a = np.random.randint(1, 5, (5,))\n",
    "b = np.random.randint(1, 5, (5,))\n",
    "\n",
    "print(\"a \",a)\n",
    "print(\"b \",b,'\\n')\n",
    "# __init__ 의 형태는 스페셜 메서드\n",
    "print(\" a + b\", a.__add__(b))\n",
    "print(\" a - b\", a.__sub__(b))\n",
    "print(\" a * b\", a.__mul__(b))\n",
    "print(\" a / b\", a.__truediv__(b))\n",
    "print(\" a // b\", a.__floordiv__(b))\n",
    "print(\" a % b\", a.__mod__(b))\n",
    "print(\" a ** b\", a.__pow__(b))\n",
    "\n",
    "\n"
   ],
   "metadata": {
    "collapsed": false,
    "ExecuteTime": {
     "end_time": "2023-11-27T10:18:17.148114Z",
     "start_time": "2023-11-27T10:18:17.145769Z"
    }
   },
   "id": "fca972d1f7bec7b6"
  },
  {
   "cell_type": "markdown",
   "source": [
    "# Matrix- mattrix \n",
    "\n",
    "matrix의 연산에도 element_wise 적용가능\n"
   ],
   "metadata": {
    "collapsed": false
   },
   "id": "d6fc4fcca2f91031"
  },
  {
   "cell_type": "code",
   "execution_count": 5,
   "outputs": [
    {
     "name": "stdout",
     "output_type": "stream",
     "text": [
      "M: \n",
      " [[2 1 4]\n",
      " [4 4 4]]\n",
      "M: \n",
      " [[4 4 3]\n",
      " [4 4 3]]\n",
      "M + N: \n",
      " [[6 5 7]\n",
      " [8 8 7]]\n",
      "M - N: \n",
      " [[-2 -3  1]\n",
      " [ 0  0  1]]\n",
      "M > N [[False False  True]\n",
      " [False False  True]]\n",
      "M >= N [[False False  True]\n",
      " [ True  True  True]]\n"
     ]
    }
   ],
   "source": [
    "import numpy as np\n",
    "\n",
    "M = np.random.randint(1, 5, (2, 3))\n",
    "N = np.random.randint(1, 5, (2, 3))\n",
    "\n",
    "print(\"M: \\n\",M)\n",
    "print(\"M: \\n\",N)\n",
    "\n",
    "print(\"M + N: \\n\",M + N)\n",
    "print(\"M - N: \\n\",M - N)\n",
    "\n",
    "print(\"M > N\", M > N)\n",
    "print(\"M >= N\", M >= N)"
   ],
   "metadata": {
    "collapsed": false,
    "ExecuteTime": {
     "end_time": "2023-11-27T10:21:57.184450Z",
     "start_time": "2023-11-27T10:21:57.167481Z"
    }
   },
   "id": "dd1fef369e0987ba"
  },
  {
   "cell_type": "markdown",
   "source": [
    "## Broadcasting in Numpy"
   ],
   "metadata": {
    "collapsed": false
   },
   "id": "f1eaab5e966c4f40"
  },
  {
   "cell_type": "markdown",
   "source": [
    "1번쨰, (3,3) + (3,1) => (3,3) + (3,3) = (3,3)\n",
    "비어있다면, 알아서 채워준다."
   ],
   "metadata": {
    "collapsed": false
   },
   "id": "aa6f37354ea9b85b"
  },
  {
   "cell_type": "code",
   "execution_count": 6,
   "outputs": [
    {
     "name": "stdout",
     "output_type": "stream",
     "text": [
      "A: 2/(3, 3)\n",
      "[[0 1 2]\n",
      " [3 4 5]\n",
      " [6 7 8]]\n",
      "B: 2/(3, 1)\n",
      "[[ 0]\n",
      " [10]\n",
      " [20]]\n",
      "C: 2/(3, 3)\n",
      "[[ 0  1  2]\n",
      " [13 14 15]\n",
      " [26 27 28]]\n"
     ]
    }
   ],
   "source": [
    "# p60\n",
    "# When ndims are Equal(Matricse)\n",
    "\n",
    "import numpy as np\n",
    "# 3x3 메트릭스 생성\n",
    "A = np.arange(9).reshape(3,3)\n",
    "# 3x1 matrix 생성\n",
    "# A와 비교해서 column의 방향만큼 원소 생성\n",
    "\"\"\"\n",
    "0   0  0\n",
    "10  10 10\n",
    "20  20 20 \n",
    "\"\"\"\n",
    "B = 10*np.arange(3).reshape((3,-1))\n",
    "# 더하게 되면 자동으로 채워준다.\n",
    "# B의 원소는 A의 shape만큼 생성됨 \n",
    "C = A + B\n",
    "\n",
    "print(\"A: {}/{}\\n{}\".format(A.ndim, A.shape, A))\n",
    "print(\"B: {}/{}\\n{}\".format(B.ndim, B.shape, B))\n",
    "print(\"C: {}/{}\\n{}\".format(C.ndim, C.shape, C))\n"
   ],
   "metadata": {
    "collapsed": false,
    "ExecuteTime": {
     "end_time": "2023-11-27T10:27:15.024297Z",
     "start_time": "2023-11-27T10:27:15.022892Z"
    }
   },
   "id": "42befb1e0e1da406"
  },
  {
   "cell_type": "markdown",
   "source": [
    "## 3차원에서의 이해\n",
    "\n",
    "## Rank3 \n",
    "## 3-tensor :(o, n, m)"
   ],
   "metadata": {
    "collapsed": false
   },
   "id": "36be8cb54abf9f80"
  },
  {
   "cell_type": "markdown",
   "source": [
    "## case1\n",
    "\n",
    "(2,3,3) + (1,3,3)\n",
    "\n",
    "=> Broadcasting \n",
    "\n",
    "(2,3,3) + (2,3,3)\n",
    "\n",
    "= (2,3,3)"
   ],
   "metadata": {
    "collapsed": false
   },
   "id": "fd52b166f32f1373"
  },
  {
   "cell_type": "code",
   "execution_count": 7,
   "outputs": [
    {
     "name": "stdout",
     "output_type": "stream",
     "text": [
      "A: 3/(2, 3, 3)\n",
      "[[[ 0  1  2]\n",
      "  [ 3  4  5]\n",
      "  [ 6  7  8]]\n",
      "\n",
      " [[ 9 10 11]\n",
      "  [12 13 14]\n",
      "  [15 16 17]]]\n",
      "B: 3/(1, 3, 3)\n",
      "[[[ 0 10 20]\n",
      "  [30 40 50]\n",
      "  [60 70 80]]]\n",
      "A + B: 3/(2, 3, 3)\n",
      "[[[ 0 11 22]\n",
      "  [33 44 55]\n",
      "  [66 77 88]]\n",
      "\n",
      " [[ 9 20 31]\n",
      "  [42 53 64]\n",
      "  [75 86 97]]]\n"
     ]
    }
   ],
   "source": [
    "# When ndims Are Equal(3rd Order Tensors)\n",
    "# P 64\n",
    "\n",
    "import numpy as np\n",
    "\n",
    "A = np.arange(18).reshape((2,3,3))\n",
    "B = 10*np.arange(9).reshape(1,3,3)\n",
    "C = A + B\n",
    "\n",
    "print(\"A: {}/{}\\n{}\".format(A.ndim, A.shape, A))\n",
    "print(\"B: {}/{}\\n{}\".format(A.ndim, B.shape, B))\n",
    "\n",
    "print(\"A + B: {}/{}\\n{}\".format(A.ndim, C.shape, C))"
   ],
   "metadata": {
    "collapsed": false,
    "ExecuteTime": {
     "end_time": "2023-11-27T10:54:29.087442Z",
     "start_time": "2023-11-27T10:54:29.082426Z"
    }
   },
   "id": "d80e0962b0a4e7f0"
  },
  {
   "cell_type": "markdown",
   "source": [
    "## Case2\n",
    "\n",
    "(2,3,3) + (2,1,3)\n",
    "\n",
    "=> Broadcasting \n",
    "\n",
    "(2,3,3) + (2,3,3)\n",
    "\n",
    "= (2,3,3)"
   ],
   "metadata": {
    "collapsed": false
   },
   "id": "11303c551093452"
  },
  {
   "cell_type": "code",
   "execution_count": 8,
   "outputs": [
    {
     "name": "stdout",
     "output_type": "stream",
     "text": [
      "A: 3/(2, 3, 3)\n",
      "[[[ 0  1  2]\n",
      "  [ 3  4  5]\n",
      "  [ 6  7  8]]\n",
      "\n",
      " [[ 9 10 11]\n",
      "  [12 13 14]\n",
      "  [15 16 17]]]\n",
      "B: 3/(2, 1, 3)\n",
      "[[[ 0 10 20]]\n",
      "\n",
      " [[30 40 50]]]\n",
      "A + B: 3/(2, 3, 3)\n",
      "[[[ 0 11 22]\n",
      "  [ 3 14 25]\n",
      "  [ 6 17 28]]\n",
      "\n",
      " [[39 50 61]\n",
      "  [42 53 64]\n",
      "  [45 56 67]]]\n"
     ]
    }
   ],
   "source": [
    "# when ndims Are Equal(3rd Order Tensors)\n",
    "\n",
    "import numpy as np\n",
    "\n",
    "# (2,3,3)\n",
    "A = np.arange(18).reshape((2, 3, 3))\n",
    "# (2,1,3)\n",
    "B = 10*np.arange(6).reshape((2, 1, 3))\n",
    "\"\"\"\n",
    "b 0 10 20\n",
    "  0 10 20\n",
    "  0 10 20 \n",
    "\n",
    "  30 40 50\n",
    "  30 40 50\n",
    "  30 40 50 \n",
    "\"\"\"\n",
    "C = A + B\n",
    "\n",
    "print(\"A: {}/{}\\n{}\".format(A.ndim, A.shape, A))\n",
    "print(\"B: {}/{}\\n{}\".format(A.ndim, B.shape, B))\n",
    "\n",
    "print(\"A + B: {}/{}\\n{}\".format(A.ndim, C.shape, C))"
   ],
   "metadata": {
    "collapsed": false,
    "ExecuteTime": {
     "end_time": "2023-11-27T10:59:38.733483Z",
     "start_time": "2023-11-27T10:59:38.692243Z"
    }
   },
   "id": "3330eb282197ee11"
  },
  {
   "cell_type": "code",
   "execution_count": 9,
   "outputs": [
    {
     "name": "stdout",
     "output_type": "stream",
     "text": [
      "A: 3/(2, 3, 3)\n",
      "[[[ 0  1  2]\n",
      "  [ 3  4  5]\n",
      "  [ 6  7  8]]\n",
      "\n",
      " [[ 9 10 11]\n",
      "  [12 13 14]\n",
      "  [15 16 17]]]\n",
      "B: 3/(2, 3, 1)\n",
      "[[[ 0]\n",
      "  [10]\n",
      "  [20]]\n",
      "\n",
      " [[30]\n",
      "  [40]\n",
      "  [50]]]\n",
      "A + B: 3/(2, 3, 3)\n",
      "[[[ 0 11 22]\n",
      "  [ 3 14 25]\n",
      "  [ 6 17 28]]\n",
      "\n",
      " [[39 50 61]\n",
      "  [42 53 64]\n",
      "  [45 56 67]]]\n"
     ]
    }
   ],
   "source": [
    "import numpy as np\n",
    "\n",
    "A = np.arange(18).reshape((2,3,3))\n",
    "B = 10*np.arange(6).reshape((2,3,1))\n",
    "\n",
    "print(\"A: {}/{}\\n{}\".format(A.ndim, A.shape, A))\n",
    "print(\"B: {}/{}\\n{}\".format(A.ndim, B.shape, B))\n",
    "print(\"A + B: {}/{}\\n{}\".format(A.ndim, C.shape, C))"
   ],
   "metadata": {
    "collapsed": false,
    "ExecuteTime": {
     "end_time": "2023-11-27T11:03:46.446215Z",
     "start_time": "2023-11-27T11:03:46.418164Z"
    }
   },
   "id": "5bce4b8a786d47ab"
  },
  {
   "cell_type": "code",
   "execution_count": 10,
   "outputs": [
    {
     "name": "stdout",
     "output_type": "stream",
     "text": [
      "A: 3/(2, 1, 3)\n",
      "[[[0 1 2]]\n",
      "\n",
      " [[3 4 5]]]\n",
      "B: 3/(2, 3, 1)\n",
      "[[[0]\n",
      "  [1]\n",
      "  [2]]\n",
      "\n",
      " [[3]\n",
      "  [4]\n",
      "  [5]]]\n",
      "A+B\n"
     ]
    }
   ],
   "source": [
    "#70\n",
    "\n",
    "import numpy as np\n",
    "\n",
    "A = np.arange(6).reshape((2, 1, 3))\n",
    "B = np.arange(6).reshape((2, 3, 1))\n",
    "C = A + B\n",
    "\n",
    "print(\"A: {}/{}\\n{}\".format(A.ndim, A.shape, A))\n",
    "print(\"B: {}/{}\\n{}\".format(A.ndim, B.shape, B))\n",
    "\n",
    "print(\"A+B\".format(A.ndim, C.shape, C))\n",
    "\n",
    "\n",
    "\n"
   ],
   "metadata": {
    "collapsed": false,
    "ExecuteTime": {
     "end_time": "2023-11-27T11:09:36.337802Z",
     "start_time": "2023-11-27T11:09:36.330130Z"
    }
   },
   "id": "239e6013490faed2"
  },
  {
   "cell_type": "code",
   "execution_count": 11,
   "outputs": [
    {
     "name": "stdout",
     "output_type": "stream",
     "text": [
      "Shapes: ()/(5,)\n",
      "a :  3\n",
      "u  [0 1 2 3 4] \n",
      "\n",
      "a*u [ 0  3  6  9 12]\n"
     ]
    }
   ],
   "source": [
    "# 71\n",
    "# when ndims are Not Equal\n",
    "\n",
    "import numpy as np\n",
    "\n",
    "a = np.array(3)\n",
    "u = np.arange(5)\n",
    "\n",
    "print(\"Shapes: {}/{}\".format(a.shape, u.shape))\n",
    "print(\"a : \",a)\n",
    "print(\"u \",u,'\\n')\n",
    "\n",
    "print(\"a*u\", a*u)"
   ],
   "metadata": {
    "collapsed": false,
    "ExecuteTime": {
     "end_time": "2023-11-27T11:12:09.144465Z",
     "start_time": "2023-11-27T11:12:09.124989Z"
    }
   },
   "id": "4add109d0c601d66"
  },
  {
   "cell_type": "code",
   "execution_count": 13,
   "outputs": [
    {
     "name": "stdout",
     "output_type": "stream",
     "text": [
      "shapes: ()/(4,)\n",
      "a 3\n",
      "u [1 2 3 4] \n",
      "\n",
      "a + u [4 5 6 7]\n",
      "a - u [ 2  1  0 -1]\n",
      "a * u [ 3  6  9 12]\n",
      "a / u [3.   1.5  1.   0.75]\n",
      "a // u [3 1 1 0]\n",
      "a % u [0 1 0 3]\n",
      "a ** u [ 3  9 27 81] \n",
      "\n",
      "a > u [ True  True False False]\n",
      "a >= u [ True  True  True False]\n",
      "a < u [False False False  True]\n",
      "a <= u [False False  True  True]\n",
      "a == u [False False  True False]\n",
      "a != u [ True  True False  True]\n"
     ]
    }
   ],
   "source": [
    "import numpy as np\n",
    "\n",
    "a = np.array(3)\n",
    "u = np.arange(1,5)\n",
    "\n",
    "shapes =\"shapes: {}/{}\"\n",
    "print(shapes.format(a.shape, u.shape))\n",
    "\n",
    "print(\"a\",a)\n",
    "print(\"u\",u, '\\n')\n",
    "\n",
    "print(\"a + u\",a + u)\n",
    "print(\"a - u\",a - u)\n",
    "print(\"a * u\",a * u)\n",
    "print(\"a / u\",a / u)\n",
    "print(\"a // u\",a // u)\n",
    "\n",
    "print(\"a % u\",a % u)\n",
    "print(\"a ** u\",a ** u,'\\n')\n",
    "\n",
    "\n",
    "print(\"a > u\",a > u)\n",
    "print(\"a >= u\",a >= u)\n",
    "print(\"a < u\",a < u)\n",
    "print(\"a <= u\",a <= u)\n",
    "print(\"a == u\",a == u)\n",
    "print(\"a != u\",a != u)\n"
   ],
   "metadata": {
    "collapsed": false,
    "ExecuteTime": {
     "end_time": "2023-11-27T11:16:38.813554Z",
     "start_time": "2023-11-27T11:16:38.807211Z"
    }
   },
   "id": "36cf4e54217bd56b"
  },
  {
   "cell_type": "markdown",
   "source": [
    "## (2,) + (3,2) => (3,2) + (3,2) = (3,2)\n",
    "\n",
    "부족한 (2,)을 뒤에 있는 (3,2) 기준으로 원소의 갯수 맞춰주기\n",
    "(2,3) (3,2) 처럼 row와 column이 일치하면 가능해진다."
   ],
   "metadata": {
    "collapsed": false
   },
   "id": "6ecf9565565b191d"
  },
  {
   "cell_type": "code",
   "execution_count": 14,
   "outputs": [
    {
     "name": "stdout",
     "output_type": "stream",
     "text": [
      "A: 1/(2,)\n",
      "[10 20]\n",
      "B: 1/(3, 2)\n",
      "[[10 21]\n",
      " [12 23]\n",
      " [14 25]]\n"
     ]
    }
   ],
   "source": [
    "# when nidms Are Not Equal\n",
    "\n",
    "import numpy as np\n",
    "\n",
    "A = np.array([10,20])\n",
    "B = np.arange(6).reshape((3,2))\n",
    "C = A + B\n",
    "\n",
    "print(\"A: {}/{}\\n{}\".format(A.ndim, A.shape, A))\n",
    "print(\"B: {}/{}\\n{}\".format(A.ndim, C.shape, C))"
   ],
   "metadata": {
    "collapsed": false,
    "ExecuteTime": {
     "end_time": "2023-11-27T11:20:47.002524Z",
     "start_time": "2023-11-27T11:20:46.942023Z"
    }
   },
   "id": "90a61ad3b46e0bc0"
  },
  {
   "cell_type": "code",
   "execution_count": 15,
   "outputs": [
    {
     "name": "stdout",
     "output_type": "stream",
     "text": [
      "A: 3/(2, 3, 4)\n",
      "[[[ 0  1  2  3]\n",
      "  [ 4  5  6  7]\n",
      "  [ 8  9 10 11]]\n",
      "\n",
      " [[12 13 14 15]\n",
      "  [16 17 18 19]\n",
      "  [20 21 22 23]]]\n",
      "B: 3/(2, 3, 4)\n",
      "[[[  0  11  22  33]\n",
      "  [ 44  55  66  77]\n",
      "  [ 88  99 110 121]]\n",
      "\n",
      " [[ 12  23  34  45]\n",
      "  [ 56  67  78  89]\n",
      "  [100 111 122 133]]]\n",
      "A + B: 3/(2, 3, 4)\n",
      "[[[  0  11  22  33]\n",
      "  [ 44  55  66  77]\n",
      "  [ 88  99 110 121]]\n",
      "\n",
      " [[ 12  23  34  45]\n",
      "  [ 56  67  78  89]\n",
      "  [100 111 122 133]]]\n"
     ]
    }
   ],
   "source": [
    "import numpy as np\n",
    "\n",
    "A = np.arange(2*3*4).reshape((2,3,4))\n",
    "B = 10*np.arange(3*4).reshape((3,4))\n",
    "C = A + B\n",
    "\n",
    "print(\"A: {}/{}\\n{}\".format(A.ndim, A.shape, A))\n",
    "print(\"B: {}/{}\\n{}\".format(A.ndim, C.shape, C))\n",
    "print(\"A + B: {}/{}\\n{}\".format(A.ndim, C.shape, C))"
   ],
   "metadata": {
    "collapsed": false,
    "ExecuteTime": {
     "end_time": "2023-11-27T11:22:25.625303Z",
     "start_time": "2023-11-27T11:22:25.558835Z"
    }
   },
   "id": "d9a6b823e1c37de9"
  },
  {
   "cell_type": "markdown",
   "source": [
    "(2,3,4) + (4, )\n",
    "=> Broadcasting (2,3,4) + (2,3,4)\n",
    "= (2,3,4)"
   ],
   "metadata": {
    "collapsed": false
   },
   "id": "31d72df26e2cce65"
  },
  {
   "cell_type": "code",
   "execution_count": 16,
   "outputs": [
    {
     "name": "stdout",
     "output_type": "stream",
     "text": [
      "A: 3/(2, 3, 4)\n",
      "[[[ 0  1  2  3]\n",
      "  [ 4  5  6  7]\n",
      "  [ 8  9 10 11]]\n",
      "\n",
      " [[12 13 14 15]\n",
      "  [16 17 18 19]\n",
      "  [20 21 22 23]]]\n",
      "B: 3/(2, 3, 4)\n",
      "[[[ 0 11 22 33]\n",
      "  [ 4 15 26 37]\n",
      "  [ 8 19 30 41]]\n",
      "\n",
      " [[12 23 34 45]\n",
      "  [16 27 38 49]\n",
      "  [20 31 42 53]]]\n",
      "A + B: 3/(2, 3, 4)\n",
      "[[[ 0 11 22 33]\n",
      "  [ 4 15 26 37]\n",
      "  [ 8 19 30 41]]\n",
      "\n",
      " [[12 23 34 45]\n",
      "  [16 27 38 49]\n",
      "  [20 31 42 53]]]\n"
     ]
    }
   ],
   "source": [
    "# 78\n",
    "# when ndims ara Not Equal\n",
    "\n",
    "import numpy as np\n",
    "\n",
    "A = np.arange(2*3*4).reshape((2,3,4))\n",
    "B = 10*np.arange(4)\n",
    "C = A + B\n",
    "\n",
    "print(\"A: {}/{}\\n{}\".format(A.ndim, A.shape, A))\n",
    "print(\"B: {}/{}\\n{}\".format(A.ndim, C.shape, C))\n",
    "print(\"A + B: {}/{}\\n{}\".format(A.ndim, C.shape, C))"
   ],
   "metadata": {
    "collapsed": false,
    "ExecuteTime": {
     "end_time": "2023-11-27T11:24:30.017548Z",
     "start_time": "2023-11-27T11:24:29.983361Z"
    }
   },
   "id": "495c934e8f83933f"
  },
  {
   "cell_type": "markdown",
   "source": [
    "차원이 갖지 않을떄는 어떻게???"
   ],
   "metadata": {
    "collapsed": false
   },
   "id": "1a07840072476b7d"
  },
  {
   "cell_type": "code",
   "execution_count": 17,
   "outputs": [
    {
     "name": "stdout",
     "output_type": "stream",
     "text": [
      "ndarray: \n",
      "[0 1 2 3 4 5 6 7 8 9]\n",
      "\n",
      "a[0]: 0\n",
      "a[2]: 2\n",
      "a[-1]: 9\n",
      "a[-2]: 8\n"
     ]
    }
   ],
   "source": [
    "# Indexing and Slicing Vector ndarrays\n",
    "\n",
    "import numpy as np\n",
    "\n",
    "a = np.arange(10)\n",
    "print(f\"ndarray: \\n{a}\\n\")\n",
    "\n",
    "print(f\"a[0]:\",a[0])\n",
    "print(f\"a[2]:\",a[2])\n",
    "\n",
    "print(f\"a[-1]:\",a[-1]) # the last elemnet\n",
    "print(f\"a[-2]:\",a[-2]) # the 2nd last element"
   ],
   "metadata": {
    "collapsed": false,
    "ExecuteTime": {
     "end_time": "2023-11-27T11:26:53.250630Z",
     "start_time": "2023-11-27T11:26:53.166330Z"
    }
   },
   "id": "d48ead74a3057e99"
  },
  {
   "cell_type": "code",
   "execution_count": 18,
   "outputs": [
    {
     "name": "stdout",
     "output_type": "stream",
     "text": [
      "ndarray: \n",
      "[0 1 2 3 4 5 6 7 8 9]\n",
      "\n",
      "a[0:3] [0 1 2]\n",
      "a[3:7] [3 4 5 6]\n",
      "a[5:-1] [5 6 7 8]\n"
     ]
    }
   ],
   "source": [
    "import numpy as np\n",
    "\n",
    "a = np.arange(10)\n",
    "print(f\"ndarray: \\n{a}\\n\")\n",
    "\n",
    "print(\"a[0:3]\",a[0:3])\n",
    "\n",
    "print(\"a[3:7]\",a[3:7])\n",
    "\n",
    "print(\"a[5:-1]\",a[5:-1])"
   ],
   "metadata": {
    "collapsed": false,
    "ExecuteTime": {
     "end_time": "2023-11-27T11:31:39.593526Z",
     "start_time": "2023-11-27T11:31:39.548153Z"
    }
   },
   "id": "497b861d32673d15"
  },
  {
   "cell_type": "code",
   "execution_count": 19,
   "outputs": [
    {
     "name": "stdout",
     "output_type": "stream",
     "text": [
      "ndarray: \n",
      "[0 1 2 3 4 5 6 7 8 9]\n",
      "\n",
      "a[2:] [2 3 4 5 6 7 8 9]\n",
      "a[:-2] [8 9]\n",
      "a[:5] [0 1 2 3 4]\n",
      "a[:-3] [0 1 2 3 4 5 6]\n",
      "a[:] [0 1 2 3 4 5 6 7 8 9]\n"
     ]
    }
   ],
   "source": [
    "#82\n",
    "# Indexing and Slicing Vector ndarrays\n",
    "\n",
    "import numpy as np\n",
    "\n",
    "a = np.arange(10)\n",
    "\n",
    "print(f\"ndarray: \\n{a}\\n\")\n",
    "\n",
    "print(\"a[2:]\",a[2:])\n",
    "\n",
    "print(\"a[:-2]\",a[-2:])\n",
    "\n",
    "print(\"a[:5]\",a[:5])\n",
    "\n",
    "print(\"a[:-3]\",a[:-3])\n",
    "\n",
    "print(\"a[:]\",a[:])"
   ],
   "metadata": {
    "collapsed": false,
    "ExecuteTime": {
     "end_time": "2023-11-27T11:33:28.235785Z",
     "start_time": "2023-11-27T11:33:28.199009Z"
    }
   },
   "id": "838c080c564e5e78"
  },
  {
   "cell_type": "markdown",
   "source": [
    "## [strat : end : step]"
   ],
   "metadata": {
    "collapsed": false
   },
   "id": "570cf811c4a1d2b9"
  },
  {
   "cell_type": "code",
   "execution_count": 20,
   "outputs": [
    {
     "name": "stdout",
     "output_type": "stream",
     "text": [
      "ndarray: \n",
      "[0 1 2 3 4 5 6 7 8 9]\n",
      "\n",
      "a[2:7:2] [2 4 6]\n",
      "a[::3] : [0 3 6 9]\n"
     ]
    }
   ],
   "source": [
    "# indexing and Slicing Vevtor ndarrays\n",
    "\n",
    "import numpy as np\n",
    "\n",
    "a = np.arange(10)\n",
    "\n",
    "print(f\"ndarray: \\n{a}\\n\")\n",
    "\n",
    "print(\"a[2:7:2]\",a[2:7:2])\n",
    "\n",
    "print(\"a[::3] :\", a[::3])"
   ],
   "metadata": {
    "collapsed": false,
    "ExecuteTime": {
     "end_time": "2023-11-27T11:35:33.922172Z",
     "start_time": "2023-11-27T11:35:33.868318Z"
    }
   },
   "id": "d7b2a31fb6e8a155"
  },
  {
   "cell_type": "code",
   "execution_count": 21,
   "outputs": [
    {
     "name": "stdout",
     "output_type": "stream",
     "text": [
      "ndarray:\n",
      "[0 1 2 3 4 5 6 7 8 9]\n",
      "\n",
      "a[7:2:-1] : [9 8 7 6 5 4 3 2 1 0]\n",
      "a[8:3:-2] : [8 6 4]\n",
      "a[::-3] : [9 6 3 0]\n"
     ]
    }
   ],
   "source": [
    "# Indexing and Slicing Vector ndarrays\n",
    "\n",
    "import numpy as np\n",
    "\n",
    "a = np.arange(10)\n",
    "\n",
    "print(f\"ndarray:\\n{a}\\n\")\n",
    "\n",
    "print(\"a[7:2:-1] :\", a[::-1])\n",
    "\n",
    "print(\"a[8:3:-2] :\", a[8:3:-2])\n",
    "\n",
    "print(\"a[::-3] :\",a[::-3])"
   ],
   "metadata": {
    "collapsed": false,
    "ExecuteTime": {
     "end_time": "2023-11-27T11:37:37.385163Z",
     "start_time": "2023-11-27T11:37:37.326066Z"
    }
   },
   "id": "1a0cc6e9df59dbb7"
  },
  {
   "cell_type": "code",
   "execution_count": 22,
   "outputs": [
    {
     "name": "stdout",
     "output_type": "stream",
     "text": [
      "[0, 1, 2]\n",
      "[3, 4, 5]\n",
      "[6, 7, 8]\n",
      "[0, 1, 2]\n",
      "[3, 4, 5]\n",
      "[6, 7, 8]\n"
     ]
    }
   ],
   "source": [
    "# Indexing and Slicing Matrix ndarrays\n",
    "a1 = [[0,1,2],[3,4,5],[6,7,8]] \n",
    "print(a1[0])\n",
    "print(a1[1])\n",
    "print(a1[2])\n",
    "\n",
    "a2 = [[0,1,2],[3,4,5],[6,7,8]]\n",
    "print(a2[0])\n",
    "print(a2[1])\n",
    "print(a2[2])"
   ],
   "metadata": {
    "collapsed": false,
    "ExecuteTime": {
     "end_time": "2023-11-27T11:39:21.501702Z",
     "start_time": "2023-11-27T11:39:21.453480Z"
    }
   },
   "id": "b07739f78fa67c9c"
  },
  {
   "cell_type": "code",
   "execution_count": 23,
   "outputs": [
    {
     "name": "stdout",
     "output_type": "stream",
     "text": [
      "ndarray: \n",
      "[[ 0  1  2  3]\n",
      " [ 4  5  6  7]\n",
      " [ 8  9 10 11]]\n",
      "\n",
      "a[0] : [0 1 2 3]\n",
      "a[1] : [4 5 6 7]\n",
      "a[2] : [ 8  9 10 11]\n"
     ]
    }
   ],
   "source": [
    "# Indexing and SLicing Matrix ndarrays\n",
    "\n",
    "import numpy as np\n",
    "\n",
    "a = np.arange(12).reshape((3,4))\n",
    "\n",
    "print(f\"ndarray: \\n{a}\\n\")\n",
    "\n",
    "print(\"a[0] :\", a[0])\n",
    "\n",
    "print(\"a[1] :\", a[1])\n",
    "\n",
    "print(\"a[2] :\", a[2])"
   ],
   "metadata": {
    "collapsed": false,
    "ExecuteTime": {
     "end_time": "2023-11-27T11:41:18.223959Z",
     "start_time": "2023-11-27T11:41:18.183570Z"
    }
   },
   "id": "a08e8e2da27574ca"
  },
  {
   "cell_type": "markdown",
   "source": [
    "  inner dim ->\n",
    "o [ [0 1 2 3], \n",
    "u   [4 5 6 7],\n",
    "t   [8 9 10 11]]\n",
    "e\n",
    "r\n",
    "d\n",
    "i\n",
    "m\n",
    "|\n",
    "v"
   ],
   "metadata": {
    "collapsed": false
   },
   "id": "d3b24322736f739e"
  },
  {
   "cell_type": "code",
   "execution_count": 24,
   "outputs": [
    {
     "name": "stdout",
     "output_type": "stream",
     "text": [
      "ndarray: \n",
      "[[0 1 2]\n",
      " [3 4 5]\n",
      " [6 7 8]]\n",
      "\n",
      "0 1 2\n",
      "3 4 5\n",
      "6 7 8\n"
     ]
    }
   ],
   "source": [
    "import numpy as np\n",
    "\n",
    "a = np.arange(9).reshape((3,3))\n",
    "print(f\"ndarray: \\n{a}\\n\")\n",
    "\n",
    "print(a[0,0], a[0,1], a[0,2])\n",
    "print(a[1,0], a[1,1], a[1,2])\n",
    "print(a[2,0], a[2,1], a[2,2])\n"
   ],
   "metadata": {
    "collapsed": false,
    "ExecuteTime": {
     "end_time": "2023-11-27T11:44:56.366902Z",
     "start_time": "2023-11-27T11:44:56.316520Z"
    }
   },
   "id": "ae0a89da6b67c141"
  },
  {
   "cell_type": "code",
   "execution_count": 26,
   "outputs": [
    {
     "name": "stdout",
     "output_type": "stream",
     "text": [
      "narray: \n",
      "[[0 1 2]\n",
      " [3 4 5]\n",
      " [6 7 8]]\n",
      "\n",
      "0 1 2\n",
      "3 4 5\n",
      "6 7 8\n"
     ]
    }
   ],
   "source": [
    "import numpy as np\n",
    "\n",
    "a = np.arange(9).reshape((3,3))\n",
    "\n",
    "print(f\"narray: \\n{a}\\n\")\n",
    "\n",
    "print(a[0,0], a[0,1], a[0,2])\n",
    "print(a[1,0], a[1,1], a[1,2])\n",
    "print(a[2,0], a[2,1], a[2,2])\n",
    "\n"
   ],
   "metadata": {
    "collapsed": false,
    "ExecuteTime": {
     "end_time": "2023-11-27T11:45:51.917944Z",
     "start_time": "2023-11-27T11:45:51.889077Z"
    }
   },
   "id": "e2c95c1baddb244"
  },
  {
   "cell_type": "code",
   "execution_count": 27,
   "outputs": [
    {
     "name": "stdout",
     "output_type": "stream",
     "text": [
      "ndarray: \n",
      "[[0 1 2]\n",
      " [3 4 5]\n",
      " [6 7 8]]\n"
     ]
    }
   ],
   "source": [
    "import numpy as np\n",
    "\n",
    "a = np.arange(9).reshape((3,3))\n",
    "print(f\"ndarray: \\n{a}\\n\")"
   ],
   "metadata": {
    "collapsed": false,
    "ExecuteTime": {
     "end_time": "2023-11-27T12:03:48.026973Z",
     "start_time": "2023-11-27T12:03:48.026347Z"
    }
   },
   "id": "2f2de0324c70e368"
  },
  {
   "cell_type": "code",
   "execution_count": 28,
   "outputs": [
    {
     "name": "stdout",
     "output_type": "stream",
     "text": [
      "a[0, 1:] :  [1 2 3]\n",
      "a[1, :3] :  [4 5 6]\n",
      "a[2, 1:3] :  [ 9 10]\n"
     ]
    }
   ],
   "source": [
    "import numpy as np\n",
    "\n",
    "a = np.arange(12).reshape((3,4))\n",
    "\n",
    "print(f\"a[0, 1:] : \",a[0, 1:])\n",
    "\n",
    "print(f\"a[1, :3] : \",a[1, :3])\n",
    "\n",
    "print(f\"a[2, 1:3] : \",a[2, 1:3])"
   ],
   "metadata": {
    "collapsed": false,
    "ExecuteTime": {
     "end_time": "2023-11-27T12:08:10.518202Z",
     "start_time": "2023-11-27T12:08:10.453736Z"
    }
   },
   "id": "77995aa6f5611494"
  },
  {
   "cell_type": "code",
   "execution_count": 29,
   "outputs": [
    {
     "name": "stdout",
     "output_type": "stream",
     "text": [
      "a[0, 1:] :  [3 6 9]\n",
      "a[1, :3] :  [1 4 7]\n",
      "a[2, 1:3] :  [5 8]\n"
     ]
    }
   ],
   "source": [
    "import numpy as np\n",
    "\n",
    "a = np.arange(12).reshape((4,3))\n",
    "\n",
    "print(f\"a[0, 1:] : \",a[1:, 0])\n",
    "\n",
    "print(f\"a[1, :3] : \",a[:3, 1])\n",
    "\n",
    "print(f\"a[2, 1:3] : \",a[1:3, 2])"
   ],
   "metadata": {
    "collapsed": false,
    "ExecuteTime": {
     "end_time": "2023-11-27T12:09:05.212732Z",
     "start_time": "2023-11-27T12:09:05.172713Z"
    }
   },
   "id": "83c2ed637b586612"
  },
  {
   "cell_type": "code",
   "execution_count": 30,
   "outputs": [
    {
     "name": "stdout",
     "output_type": "stream",
     "text": [
      "ndarray: \n",
      "[[[ 0  1  2]\n",
      "  [ 3  4  5]\n",
      "  [ 6  7  8]]\n",
      "\n",
      " [[ 9 10 11]\n",
      "  [12 13 14]\n",
      "  [15 16 17]]\n",
      "\n",
      " [[18 19 20]\n",
      "  [21 22 23]\n",
      "  [24 25 26]]]\n"
     ]
    }
   ],
   "source": [
    "import numpy as np\n",
    "\n",
    "a = np.arange(3*3*3).reshape((3,3,3))\n",
    "print(f\"ndarray: \\n{a}\\n\")"
   ],
   "metadata": {
    "collapsed": false,
    "ExecuteTime": {
     "end_time": "2023-11-27T12:10:17.876143Z",
     "start_time": "2023-11-27T12:10:17.814869Z"
    }
   },
   "id": "136222cd32ff1047"
  },
  {
   "cell_type": "code",
   "execution_count": 31,
   "outputs": [
    {
     "name": "stdout",
     "output_type": "stream",
     "text": [
      "a[:, :2, :] \n",
      " [[[ 0  1  2]\n",
      "  [ 3  4  5]]\n",
      "\n",
      " [[ 9 10 11]\n",
      "  [12 13 14]]\n",
      "\n",
      " [[18 19 20]\n",
      "  [21 22 23]]]\n"
     ]
    }
   ],
   "source": [
    "print(\"a[:, :2, :] \\n\", a[:, :2, :])"
   ],
   "metadata": {
    "collapsed": false,
    "ExecuteTime": {
     "end_time": "2023-11-27T12:10:50.154323Z",
     "start_time": "2023-11-27T12:10:50.043282Z"
    }
   },
   "id": "c0a26ae1f153e7ca"
  },
  {
   "cell_type": "code",
   "execution_count": 33,
   "outputs": [
    {
     "name": "stdout",
     "output_type": "stream",
     "text": [
      "narray: \n",
      "[[[ 0  1  2]\n",
      "  [ 3  4  5]\n",
      "  [ 6  7  8]]\n",
      "\n",
      " [[ 9 10 11]\n",
      "  [12 13 14]\n",
      "  [15 16 17]]\n",
      "\n",
      " [[18 19 20]\n",
      "  [21 22 23]\n",
      "  [24 25 26]]]\n"
     ]
    }
   ],
   "source": [
    "import numpy as np\n",
    "\n",
    "a = np.arange(3*3*3).reshape((3, 3, 3))\n",
    "print(f\"narray: \\n{a}\\n\")"
   ],
   "metadata": {
    "collapsed": false,
    "ExecuteTime": {
     "end_time": "2023-11-27T12:11:45.032510Z",
     "start_time": "2023-11-27T12:11:45.011617Z"
    }
   },
   "id": "1c7c519d2ab6ccf7"
  },
  {
   "cell_type": "code",
   "execution_count": 34,
   "outputs": [
    {
     "name": "stdout",
     "output_type": "stream",
     "text": [
      "a[:,:, 0] : \n",
      " [[ 0  3  6]\n",
      " [ 9 12 15]\n",
      " [18 21 24]]\n"
     ]
    }
   ],
   "source": [
    "print(\"a[:,:, 0] : \\n\",a[:, :, 0])"
   ],
   "metadata": {
    "collapsed": false,
    "ExecuteTime": {
     "end_time": "2023-11-27T12:12:17.894140Z",
     "start_time": "2023-11-27T12:12:17.851266Z"
    }
   },
   "id": "6a0c5b4d1b4aecc2"
  },
  {
   "cell_type": "code",
   "execution_count": null,
   "outputs": [],
   "source": [],
   "metadata": {
    "collapsed": false
   },
   "id": "459ff3d44c87acca"
  }
 ],
 "metadata": {
  "kernelspec": {
   "display_name": "Python 3",
   "language": "python",
   "name": "python3"
  },
  "language_info": {
   "codemirror_mode": {
    "name": "ipython",
    "version": 2
   },
   "file_extension": ".py",
   "mimetype": "text/x-python",
   "name": "python",
   "nbconvert_exporter": "python",
   "pygments_lexer": "ipython2",
   "version": "2.7.6"
  }
 },
 "nbformat": 4,
 "nbformat_minor": 5
}
