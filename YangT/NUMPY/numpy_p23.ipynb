{
 "cells": [
  {
   "cell_type": "code",
   "execution_count": null,
   "id": "initial_id",
   "metadata": {
    "collapsed": true
   },
   "outputs": [],
   "source": [
    "\"\"\"\n",
    "WHY NUMPY?\n",
    "\n",
    "Tensors Vectorization Tensor Operations Other Libaries Efficiency\n",
    "\n",
    "\"\"\"\n",
    "\n"
   ]
  },
  {
   "cell_type": "markdown",
   "source": [
    "# Objects in Python"
   ],
   "metadata": {
    "collapsed": false
   },
   "id": "4c3824ab0b9f22dd"
  },
  {
   "cell_type": "markdown",
   "source": [
    "type()Function"
   ],
   "metadata": {
    "collapsed": false
   },
   "id": "1ecad9e4289e10b0"
  },
  {
   "cell_type": "code",
   "execution_count": 1,
   "outputs": [
    {
     "name": "stdout",
     "output_type": "stream",
     "text": [
      "<class 'list'>\n",
      "<class 'dict'>\n",
      "<class 'tuple'>\n"
     ]
    }
   ],
   "source": [
    "a = [1,2,3]\n",
    "b = {'a':1,'b':2,'c':3}\n",
    "c = (1,2,3)\n",
    "\n",
    "print('list :',type(a))\n",
    "\"\"\"\n",
    "순서가 있는 수정가능한 객체의 집합입니다.\n",
    "수정, 삭제, 추가가 가능합니다.\n",
    "list 는 [] 대괄호로 작성되어지며, 내부 원소는 ,로 구분됩니다.\n",
    "REPL에서 확인하겠습니다. 일반 list 입니다.\n",
    "\"\"\"\n",
    "print('list :',type(b))\n",
    "\"\"\"\n",
    "딕셔너리 타입은 immutable한 키(key)와 mutable한 값(value)으로 맵핑되어 있는 순서가 없는 집합입니다.\n",
    "REPL에서 확인합니다.\n",
    "일반적인 딕셔너리 타입의 모습입니다. 중괄호로 되어 있고 키와 값이 있습니다.\n",
    "\"\"\"\n",
    "\n",
    "print('list :',type(c))\n",
    "\"\"\"\n",
    "tuple(튜플)은 불변한 순서가 있는 객체의 집합입니다.\n",
    "list형과 비슷하지만 한 번 생성되면 값을 변경할 수 없습니다.\n",
    "REPL에서 확인해봅니다.\n",
    "list와 마찬가지로 다양한 타입이 함께 포함될 수 있습니다.\n",
    "\"\"\"\n",
    "\n"
   ],
   "metadata": {
    "collapsed": false,
    "ExecuteTime": {
     "end_time": "2023-10-31T10:55:44.723618Z",
     "start_time": "2023-10-31T10:55:44.714256Z"
    }
   },
   "id": "ecf3ce90d31f3f84"
  },
  {
   "cell_type": "markdown",
   "source": [
    "## Object = Data + Methods"
   ],
   "metadata": {
    "collapsed": false
   },
   "id": "82215b5840130be2"
  },
  {
   "cell_type": "code",
   "execution_count": 2,
   "outputs": [
    {
     "name": "stdout",
     "output_type": "stream",
     "text": [
      "[1, 2, 3, 4]\n"
     ]
    }
   ],
   "source": [
    "a = [1,2,3] # instantiate a list\n",
    "a.append(4) # use \"append\" method to append 3 to the list\n",
    "print(a)"
   ],
   "metadata": {
    "collapsed": false,
    "ExecuteTime": {
     "end_time": "2023-10-31T10:59:12.262510Z",
     "start_time": "2023-10-31T10:59:12.245743Z"
    }
   },
   "id": "a2b769b07ae3de11"
  },
  {
   "cell_type": "markdown",
   "source": [
    "## dir()Function"
   ],
   "metadata": {
    "collapsed": false
   },
   "id": "1a15b9a9f9571a6f"
  },
  {
   "cell_type": "code",
   "execution_count": 3,
   "outputs": [
    {
     "name": "stdout",
     "output_type": "stream",
     "text": [
      "__add__\n",
      "__class__\n",
      "__class_getitem__\n",
      "__contains__\n",
      "__delattr__\n",
      "__delitem__\n",
      "__dir__\n",
      "__doc__\n",
      "__eq__\n",
      "__format__\n",
      "__ge__\n",
      "__getattribute__\n",
      "__getitem__\n",
      "__getstate__\n",
      "__gt__\n",
      "__hash__\n",
      "__iadd__\n",
      "__imul__\n",
      "__init__\n",
      "__init_subclass__\n",
      "__iter__\n",
      "__le__\n",
      "__len__\n",
      "__lt__\n",
      "__mul__\n",
      "__ne__\n",
      "__new__\n",
      "__reduce__\n",
      "__reduce_ex__\n",
      "__repr__\n",
      "__reversed__\n",
      "__rmul__\n",
      "__setattr__\n",
      "__setitem__\n",
      "__sizeof__\n",
      "__str__\n",
      "__subclasshook__\n",
      "append\n",
      "clear\n",
      "copy\n",
      "count\n",
      "extend\n",
      "index\n",
      "insert\n",
      "pop\n",
      "remove\n",
      "reverse\n",
      "sort\n"
     ]
    }
   ],
   "source": [
    "a = [1,2,3]\n",
    "for attr in dir(a):\n",
    "    print(attr)"
   ],
   "metadata": {
    "collapsed": false,
    "ExecuteTime": {
     "end_time": "2023-10-31T11:00:03.685502Z",
     "start_time": "2023-10-31T11:00:03.651128Z"
    }
   },
   "id": "b32dd489844ff104"
  },
  {
   "cell_type": "code",
   "execution_count": 4,
   "outputs": [
    {
     "name": "stdout",
     "output_type": "stream",
     "text": [
      "__class__\n",
      "__class_getitem__\n",
      "__contains__\n",
      "__delattr__\n",
      "__delitem__\n",
      "__dir__\n",
      "__doc__\n",
      "__eq__\n",
      "__format__\n",
      "__ge__\n",
      "__getattribute__\n",
      "__getitem__\n",
      "__getstate__\n",
      "__gt__\n",
      "__hash__\n",
      "__init__\n",
      "__init_subclass__\n",
      "__ior__\n",
      "__iter__\n",
      "__le__\n",
      "__len__\n",
      "__lt__\n",
      "__ne__\n",
      "__new__\n",
      "__or__\n",
      "__reduce__\n",
      "__reduce_ex__\n",
      "__repr__\n",
      "__reversed__\n",
      "__ror__\n",
      "__setattr__\n",
      "__setitem__\n",
      "__sizeof__\n",
      "__str__\n",
      "__subclasshook__\n",
      "clear\n",
      "copy\n",
      "fromkeys\n",
      "get\n",
      "items\n",
      "keys\n",
      "pop\n",
      "popitem\n",
      "setdefault\n",
      "update\n",
      "values\n"
     ]
    }
   ],
   "source": [
    "a = {'a':0, 'b':1, 'c':2}\n",
    "for attr in dir(a):\n",
    "    print(attr)"
   ],
   "metadata": {
    "collapsed": false,
    "ExecuteTime": {
     "end_time": "2023-10-31T11:01:09.026459Z",
     "start_time": "2023-10-31T11:01:09.005232Z"
    }
   },
   "id": "427fde731a712c0a"
  },
  {
   "cell_type": "markdown",
   "source": [
    "## Special Method Examples\n",
    "\n",
    "실제 컴터는 이렇게 이해합니다!"
   ],
   "metadata": {
    "collapsed": false
   },
   "id": "21e4dd1b33e16cf2"
  },
  {
   "cell_type": "code",
   "execution_count": 5,
   "outputs": [
    {
     "name": "stdout",
     "output_type": "stream",
     "text": [
      "2 2\n",
      "8 8\n",
      "16 16\n",
      "2.0 2.0\n",
      "2 2\n",
      "2 2\n",
      "0 0\n"
     ]
    }
   ],
   "source": [
    "a, b = 4, 2\n",
    "\n",
    "print(a - b, a.__sub__(b))\n",
    "print(a * b, a.__mul__(b))\n",
    "print(a ** b, a.__pow__(b))\n",
    "print(a / b, a.__truediv__(b))\n",
    "print(a - b, a.__sub__(b))\n",
    "print(a // b, a.__floordiv__(b))\n",
    "print(a % b, a.__mod__(b))"
   ],
   "metadata": {
    "collapsed": false,
    "ExecuteTime": {
     "end_time": "2023-10-31T11:03:36.916168Z",
     "start_time": "2023-10-31T11:03:36.901065Z"
    }
   },
   "id": "f7e7922c5d7bed3e"
  },
  {
   "cell_type": "code",
   "execution_count": 9,
   "outputs": [
    {
     "name": "stdout",
     "output_type": "stream",
     "text": [
      "attr list __add__\n",
      "attr list __class__\n",
      "attr list __class_getitem__\n",
      "attr list __contains__\n",
      "attr list __delattr__\n",
      "attr list __delitem__\n",
      "attr list __dir__\n",
      "attr list __doc__\n",
      "attr list __eq__\n",
      "attr list __format__\n",
      "attr list __ge__\n",
      "attr list __getattribute__\n",
      "attr list __getitem__\n",
      "attr list __getstate__\n",
      "attr list __gt__\n",
      "attr list __hash__\n",
      "attr list __iadd__\n",
      "attr list __imul__\n",
      "attr list __init__\n",
      "attr list __init_subclass__\n",
      "attr list __iter__\n",
      "attr list __le__\n",
      "attr list __len__\n",
      "attr list __lt__\n",
      "attr list __mul__\n",
      "attr list __ne__\n",
      "attr list __new__\n",
      "attr list __reduce__\n",
      "attr list __reduce_ex__\n",
      "attr list __repr__\n",
      "attr list __reversed__\n",
      "attr list __rmul__\n",
      "attr list __setattr__\n",
      "attr list __setitem__\n",
      "attr list __sizeof__\n",
      "attr list __str__\n",
      "attr list __subclasshook__\n",
      "attr list append\n",
      "attr list clear\n",
      "attr list copy\n",
      "attr list count\n",
      "attr list extend\n",
      "attr list index\n",
      "attr list insert\n",
      "attr list pop\n",
      "attr list remove\n",
      "attr list reverse\n",
      "attr list sort\n",
      "attr dictionary __class__\n",
      "attr dictionary __class_getitem__\n",
      "attr dictionary __contains__\n",
      "attr dictionary __delattr__\n",
      "attr dictionary __delitem__\n",
      "attr dictionary __dir__\n",
      "attr dictionary __doc__\n",
      "attr dictionary __eq__\n",
      "attr dictionary __format__\n",
      "attr dictionary __ge__\n",
      "attr dictionary __getattribute__\n",
      "attr dictionary __getitem__\n",
      "attr dictionary __getstate__\n",
      "attr dictionary __gt__\n",
      "attr dictionary __hash__\n",
      "attr dictionary __init__\n",
      "attr dictionary __init_subclass__\n",
      "attr dictionary __ior__\n",
      "attr dictionary __iter__\n",
      "attr dictionary __le__\n",
      "attr dictionary __len__\n",
      "attr dictionary __lt__\n",
      "attr dictionary __ne__\n",
      "attr dictionary __new__\n",
      "attr dictionary __or__\n",
      "attr dictionary __reduce__\n",
      "attr dictionary __reduce_ex__\n",
      "attr dictionary __repr__\n",
      "attr dictionary __reversed__\n",
      "attr dictionary __ror__\n",
      "attr dictionary __setattr__\n",
      "attr dictionary __setitem__\n",
      "attr dictionary __sizeof__\n",
      "attr dictionary __str__\n",
      "attr dictionary __subclasshook__\n",
      "attr dictionary clear\n",
      "attr dictionary copy\n",
      "attr dictionary fromkeys\n",
      "attr dictionary get\n",
      "attr dictionary items\n",
      "attr dictionary keys\n",
      "attr dictionary pop\n",
      "attr dictionary popitem\n",
      "attr dictionary setdefault\n",
      "attr dictionary update\n",
      "attr dictionary values\n"
     ]
    }
   ],
   "source": [
    "a = [1,2,3]\n",
    "for attr1 in dir(a):\n",
    "    print('attr list',attr1)\n",
    "    \n",
    "a = {'a':0,'b':1,'c':2}\n",
    "for attr2 in dir(a):\n",
    "    print('attr dictionary',attr2)"
   ],
   "metadata": {
    "collapsed": false,
    "ExecuteTime": {
     "end_time": "2023-10-31T11:08:51.890004Z",
     "start_time": "2023-10-31T11:08:51.888908Z"
    }
   },
   "id": "93fd4139d63bcc41"
  },
  {
   "cell_type": "markdown",
   "source": [
    "## ndarry Objects"
   ],
   "metadata": {
    "collapsed": false
   },
   "id": "3f565d1268c1e10d"
  },
  {
   "cell_type": "code",
   "execution_count": 10,
   "outputs": [
    {
     "name": "stdout",
     "output_type": "stream",
     "text": [
      "<class 'numpy.ndarray'>\n"
     ]
    }
   ],
   "source": [
    "import numpy as np\n",
    "\n",
    "a = np.array([1,2,3])\n",
    "print(type(a)) "
   ],
   "metadata": {
    "collapsed": false,
    "ExecuteTime": {
     "end_time": "2023-10-31T11:09:46.740329Z",
     "start_time": "2023-10-31T11:09:46.654911Z"
    }
   },
   "id": "44ddfbddc72e7606"
  },
  {
   "cell_type": "markdown",
   "source": [
    "## ndarry Objects"
   ],
   "metadata": {
    "collapsed": false
   },
   "id": "2a813864833af351"
  },
  {
   "cell_type": "code",
   "execution_count": 11,
   "outputs": [
    {
     "name": "stdout",
     "output_type": "stream",
     "text": [
      "ndarray: T\n",
      "ndarray: __abs__\n",
      "ndarray: __add__\n",
      "ndarray: __and__\n",
      "ndarray: __array__\n",
      "ndarray: __array_finalize__\n",
      "ndarray: __array_function__\n",
      "ndarray: __array_interface__\n",
      "ndarray: __array_prepare__\n",
      "ndarray: __array_priority__\n",
      "ndarray: __array_struct__\n",
      "ndarray: __array_ufunc__\n",
      "ndarray: __array_wrap__\n",
      "ndarray: __bool__\n",
      "ndarray: __class__\n",
      "ndarray: __class_getitem__\n",
      "ndarray: __complex__\n",
      "ndarray: __contains__\n",
      "ndarray: __copy__\n",
      "ndarray: __deepcopy__\n",
      "ndarray: __delattr__\n",
      "ndarray: __delitem__\n",
      "ndarray: __dir__\n",
      "ndarray: __divmod__\n",
      "ndarray: __dlpack__\n",
      "ndarray: __dlpack_device__\n",
      "ndarray: __doc__\n",
      "ndarray: __eq__\n",
      "ndarray: __float__\n",
      "ndarray: __floordiv__\n",
      "ndarray: __format__\n",
      "ndarray: __ge__\n",
      "ndarray: __getattribute__\n",
      "ndarray: __getitem__\n",
      "ndarray: __getstate__\n",
      "ndarray: __gt__\n",
      "ndarray: __hash__\n",
      "ndarray: __iadd__\n",
      "ndarray: __iand__\n",
      "ndarray: __ifloordiv__\n",
      "ndarray: __ilshift__\n",
      "ndarray: __imatmul__\n",
      "ndarray: __imod__\n",
      "ndarray: __imul__\n",
      "ndarray: __index__\n",
      "ndarray: __init__\n",
      "ndarray: __init_subclass__\n",
      "ndarray: __int__\n",
      "ndarray: __invert__\n",
      "ndarray: __ior__\n",
      "ndarray: __ipow__\n",
      "ndarray: __irshift__\n",
      "ndarray: __isub__\n",
      "ndarray: __iter__\n",
      "ndarray: __itruediv__\n",
      "ndarray: __ixor__\n",
      "ndarray: __le__\n",
      "ndarray: __len__\n",
      "ndarray: __lshift__\n",
      "ndarray: __lt__\n",
      "ndarray: __matmul__\n",
      "ndarray: __mod__\n",
      "ndarray: __mul__\n",
      "ndarray: __ne__\n",
      "ndarray: __neg__\n",
      "ndarray: __new__\n",
      "ndarray: __or__\n",
      "ndarray: __pos__\n",
      "ndarray: __pow__\n",
      "ndarray: __radd__\n",
      "ndarray: __rand__\n",
      "ndarray: __rdivmod__\n",
      "ndarray: __reduce__\n",
      "ndarray: __reduce_ex__\n",
      "ndarray: __repr__\n",
      "ndarray: __rfloordiv__\n",
      "ndarray: __rlshift__\n",
      "ndarray: __rmatmul__\n",
      "ndarray: __rmod__\n",
      "ndarray: __rmul__\n",
      "ndarray: __ror__\n",
      "ndarray: __rpow__\n",
      "ndarray: __rrshift__\n",
      "ndarray: __rshift__\n",
      "ndarray: __rsub__\n",
      "ndarray: __rtruediv__\n",
      "ndarray: __rxor__\n",
      "ndarray: __setattr__\n",
      "ndarray: __setitem__\n",
      "ndarray: __setstate__\n",
      "ndarray: __sizeof__\n",
      "ndarray: __str__\n",
      "ndarray: __sub__\n",
      "ndarray: __subclasshook__\n",
      "ndarray: __truediv__\n",
      "ndarray: __xor__\n",
      "ndarray: all\n",
      "ndarray: any\n",
      "ndarray: argmax\n",
      "ndarray: argmin\n",
      "ndarray: argpartition\n",
      "ndarray: argsort\n",
      "ndarray: astype\n",
      "ndarray: base\n",
      "ndarray: byteswap\n",
      "ndarray: choose\n",
      "ndarray: clip\n",
      "ndarray: compress\n",
      "ndarray: conj\n",
      "ndarray: conjugate\n",
      "ndarray: copy\n",
      "ndarray: ctypes\n",
      "ndarray: cumprod\n",
      "ndarray: cumsum\n",
      "ndarray: data\n",
      "ndarray: diagonal\n",
      "ndarray: dot\n",
      "ndarray: dtype\n",
      "ndarray: dump\n",
      "ndarray: dumps\n",
      "ndarray: fill\n",
      "ndarray: flags\n",
      "ndarray: flat\n",
      "ndarray: flatten\n",
      "ndarray: getfield\n",
      "ndarray: imag\n",
      "ndarray: item\n",
      "ndarray: itemset\n",
      "ndarray: itemsize\n",
      "ndarray: max\n",
      "ndarray: mean\n",
      "ndarray: min\n",
      "ndarray: nbytes\n",
      "ndarray: ndim\n",
      "ndarray: newbyteorder\n",
      "ndarray: nonzero\n",
      "ndarray: partition\n",
      "ndarray: prod\n",
      "ndarray: ptp\n",
      "ndarray: put\n",
      "ndarray: ravel\n",
      "ndarray: real\n",
      "ndarray: repeat\n",
      "ndarray: reshape\n",
      "ndarray: resize\n",
      "ndarray: round\n",
      "ndarray: searchsorted\n",
      "ndarray: setfield\n",
      "ndarray: setflags\n",
      "ndarray: shape\n",
      "ndarray: size\n",
      "ndarray: sort\n",
      "ndarray: squeeze\n",
      "ndarray: std\n",
      "ndarray: strides\n",
      "ndarray: sum\n",
      "ndarray: swapaxes\n",
      "ndarray: take\n",
      "ndarray: tobytes\n",
      "ndarray: tofile\n",
      "ndarray: tolist\n",
      "ndarray: tostring\n",
      "ndarray: trace\n",
      "ndarray: transpose\n",
      "ndarray: var\n",
      "ndarray: view\n"
     ]
    }
   ],
   "source": [
    "import numpy as np\n",
    "\n",
    "a = np.array([1,2,3])\n",
    "for attr in dir(a):\n",
    "    print('ndarray:',attr)"
   ],
   "metadata": {
    "collapsed": false,
    "ExecuteTime": {
     "end_time": "2023-10-31T11:12:27.459440Z",
     "start_time": "2023-10-31T11:12:27.443713Z"
    }
   },
   "id": "54fcd77a79fad6b7"
  },
  {
   "cell_type": "markdown",
   "source": [
    "## Element-wise Oprations of ndarrays"
   ],
   "metadata": {
    "collapsed": false
   },
   "id": "69b3541738acd764"
  },
  {
   "cell_type": "code",
   "execution_count": 12,
   "outputs": [
    {
     "name": "stdout",
     "output_type": "stream",
     "text": [
      "[1, 2, 3, 4, 5, 6]\n"
     ]
    }
   ],
   "source": [
    "u = [1,2,3] \n",
    "v = [4,5,6]\n",
    "\n",
    "w = u + v \n",
    "print(w)"
   ],
   "metadata": {
    "collapsed": false,
    "ExecuteTime": {
     "end_time": "2023-10-31T11:13:45.496079Z",
     "start_time": "2023-10-31T11:13:45.479366Z"
    }
   },
   "id": "18d9204d635e8631"
  },
  {
   "cell_type": "code",
   "execution_count": 15,
   "outputs": [
    {
     "name": "stdout",
     "output_type": "stream",
     "text": [
      "[1, 2, 3, 4, 5, 6]\n",
      "not ndarray [5, 0, 0]\n",
      "not ndarray [5, 7, 0]\n",
      "not ndarray [5, 7, 9]\n"
     ]
    }
   ],
   "source": [
    "u = [1, 2, 3]\n",
    "v = [4, 5, 6]\n",
    "\n",
    "w = u + v\n",
    "print('with narrays',w)\n",
    "\n",
    "# ndarry가 아닌경우는 힘들게 직접 원소에 반복문으로 접근해야함!\n",
    "w = [0]*len(u)\n",
    "for data_idx in range(len(u)):\n",
    "    w[data_idx] = u[data_idx] + v[data_idx]\n",
    "    print('with Python Lists',w)"
   ],
   "metadata": {
    "collapsed": false,
    "ExecuteTime": {
     "end_time": "2023-10-31T11:16:35.003528Z",
     "start_time": "2023-10-31T11:16:34.993102Z"
    }
   },
   "id": "9f325fcf72c8cf08"
  },
  {
   "cell_type": "markdown",
   "source": [
    "# Element-wise Operations of ndarrays"
   ],
   "metadata": {
    "collapsed": false
   },
   "id": "47cbbbece55126f1"
  },
  {
   "cell_type": "code",
   "execution_count": 22,
   "outputs": [
    {
     "name": "stdout",
     "output_type": "stream",
     "text": [
      "Python array [12, 14, 16]\n",
      "ndarray [[12 14 16]\n",
      " [18 20 22]\n",
      " [24 26 28]]\n",
      "Python array [18, 20, 22]\n",
      "ndarray [[12 14 16]\n",
      " [18 20 22]\n",
      " [24 26 28]]\n",
      "Python array [24, 26, 28]\n",
      "ndarray [[12 14 16]\n",
      " [18 20 22]\n",
      " [24 26 28]]\n"
     ]
    }
   ],
   "source": [
    "M =[[1,2,3],[4,5,6],[7,8,9]]\n",
    "N = [[11,12,13],[14,15,16],[17,18,19]]\n",
    "\n",
    "n_row, n_col = len(M), len(M[0])\n",
    "\n",
    "p = [[0]*n_col for _ in range(n_col)]\n",
    "for row_idx in range(n_row):\n",
    "    for col_idx in range(n_col):\n",
    "        p[row_idx][col_idx] = M[row_idx][col_idx] + \\\n",
    "            N[row_idx][col_idx]\n",
    "\n",
    "for P_row in p:\n",
    "    \n",
    "    \n",
    "    import numpy as np\n",
    "    \n",
    "    M = np.array([[1,2,3],\n",
    "                 [4,5,6],\n",
    "                 [7,8,9]])\n",
    "    \n",
    "    N = np.array([[11, 12, 13],\n",
    "                  [14, 15, 16],\n",
    "                  [17, 18, 19]])\n",
    "    \n",
    "    print(\"Python array\",P_row)\n",
    "    print('ndarray',M + N)\n",
    "    "
   ],
   "metadata": {
    "collapsed": false,
    "ExecuteTime": {
     "end_time": "2023-10-31T11:27:42.095633Z",
     "start_time": "2023-10-31T11:27:42.092465Z"
    }
   },
   "id": "b5a2f1ce5e83435c"
  },
  {
   "cell_type": "code",
   "execution_count": null,
   "outputs": [],
   "source": [],
   "metadata": {
    "collapsed": false
   },
   "id": "31c64f583b964a5"
  }
 ],
 "metadata": {
  "kernelspec": {
   "display_name": "Python 3",
   "language": "python",
   "name": "python3"
  },
  "language_info": {
   "codemirror_mode": {
    "name": "ipython",
    "version": 2
   },
   "file_extension": ".py",
   "mimetype": "text/x-python",
   "name": "python",
   "nbconvert_exporter": "python",
   "pygments_lexer": "ipython2",
   "version": "2.7.6"
  }
 },
 "nbformat": 4,
 "nbformat_minor": 5
}
