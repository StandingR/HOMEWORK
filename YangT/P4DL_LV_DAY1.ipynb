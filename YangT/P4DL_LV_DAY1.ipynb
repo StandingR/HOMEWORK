{
 "cells": [
  {
   "cell_type": "markdown",
   "metadata": {},
   "source": [
    "### Print function\n",
    "\n",
    "Exercise. 1-1 : print()로 data 출력하기"
   ]
  },
  {
   "cell_type": "code",
   "execution_count": 2,
   "metadata": {},
   "outputs": [
    {
     "name": "stdout",
     "output_type": "stream",
     "text": [
      "Hell World!\n",
      "Name: Jae Woo\n",
      "Grade: 4.5\n"
     ]
    }
   ],
   "source": [
    "print(\"Hell World!\")\n",
    "print(\"Name:\", \"Jae Woo\")\n",
    "print(\"Grade:\", 4.5)"
   ]
  },
  {
   "cell_type": "markdown",
   "metadata": {},
   "source": [
    "Exercise 1-2 : int,float,str 변수 할당하고 출력하기\n",
    "다양한 data type의 data를 variable에 할당하는 방법을 배웁니다."
   ]
  },
  {
   "cell_type": "code",
   "execution_count": 7,
   "metadata": {},
   "outputs": [
    {
     "name": "stdout",
     "output_type": "stream",
     "text": [
      "name: JAE WOO\n",
      "python score: 10\n",
      "height: 177.8\n"
     ]
    }
   ],
   "source": [
    "name = \"JAE WOO\"\n",
    "python_score = 10\n",
    "height = 177.8\n",
    "\n",
    "print(\"name:\",name)\n",
    "print(\"python score:\", python_score)\n",
    "print(\"height:\",height)\n"
   ]
  },
  {
   "cell_type": "markdown",
   "metadata": {},
   "source": [
    "### 연산\n",
    "Excel에서도 sum이나 +, - 기호로 셀과 셀 단위, 열과 열단위, 행과 행단위 연산이 가능합니다.\n",
    "\n",
    "python에서도 마찬가지로 사칙 연산외 다양한 통계 연산 기능을 기본으로 제공해 준다.\n",
    "\n",
    "사칙연산 (+, -, /, *)\n",
    "더하기 (+)\n",
    "빼기 (-)\n",
    "나누기 (/)\n",
    "곱하기 (*)"
   ]
  },
  {
   "cell_type": "code",
   "execution_count": null,
   "metadata": {},
   "outputs": [],
   "source": [
    "#Exercise. 1 -3 사칙연산\n",
    "#Python에서 제공하는 연산자들을 사용하는 방법을 배웁니다.\n",
    "int1 = 4\n",
    "int2 = 2\n",
    "print(int1 + int2)\n",
    "print(int1 - int2)\n",
    "print(int1 * int2)\n",
    "print(int1 / int2) # 나누기의 의미\n",
    "# 조금 생소할수 있는 연산자 (%,//, **)\n",
    "print(int1 // int2) # 몫의 의미, float division, 나눗셈에 대한 몫을 정수형으로 구함\n",
    "print(int1 % int2) # 나머지의 의미, modulus 연산자입니다. 몫을 나눈 나머지를 구함 \n",
    "print(int1 ** int2) # int1에 int2만큼 제곱한다. 제곱연산"
   ]
  },
  {
   "cell_type": "markdown",
   "metadata": {},
   "source": [
    "*중요사항"
   ]
  },
  {
   "cell_type": "code",
   "execution_count": 8,
   "metadata": {},
   "outputs": [],
   "source": [
    "# += 기호는 +(덧셈)한 뒤 자기 자신의 변수에 재 할당합니다.\n",
    "# EX) a +=3 은 a+3과 같다.\n",
    "\n",
    "a = 10\n",
    "a += 5\n",
    "# 복습할때 직접 적어보기"
   ]
  },
  {
   "cell_type": "markdown",
   "metadata": {},
   "source": [
    "괄호 ()의 활용\n",
    "- 수학 연산할 떄와 마찬가지로,,/을 먼저 계산하며, 괄호 ()를 활용*하여 먼저\n",
    "연산할 부분을 지정 할 수 있습니다."
   ]
  },
  {
   "cell_type": "code",
   "execution_count": null,
   "metadata": {},
   "outputs": [],
   "source": [
    "10 + 2 * 5 # 위 과정에서는 수학에서와 마찬가지로 곱셉부터 연산된다.\n",
    "(10+2)*5  # 하지만 ()를 사용한다면, 수학에서 처럼 python 앞부터 연산됨.\n"
   ]
  },
  {
   "cell_type": "code",
   "execution_count": 9,
   "metadata": {},
   "outputs": [
    {
     "data": {
      "text/plain": [
       "'1020'"
      ]
     },
     "execution_count": 9,
     "metadata": {},
     "output_type": "execute_result"
    }
   ],
   "source": [
    "# 특이한 셩우\n",
    "a = '10'\n",
    "b = '20'\n",
    "a + b"
   ]
  },
  {
   "cell_type": "markdown",
   "metadata": {},
   "source": [
    "'1020'으로 출력되는 이유는 연산자 타입이 문자형으로 지정되었기떄문이다."
   ]
  },
  {
   "cell_type": "code",
   "execution_count": null,
   "metadata": {},
   "outputs": [],
   "source": [
    "a = '10'\n",
    "b = 20\n",
    "a + b\n"
   ]
  },
  {
   "cell_type": "markdown",
   "metadata": {},
   "source": [
    "c와 마찬가지로 연산자 (type)이 다르면 ERROR가 발생합니다."
   ]
  },
  {
   "cell_type": "code",
   "execution_count": 12,
   "metadata": {},
   "outputs": [
    {
     "name": "stdout",
     "output_type": "stream",
     "text": [
      "6 2 8 2.0 2 0 16\n"
     ]
    }
   ],
   "source": [
    "# EX.1-4 : 사칙연산 결과를 할당하고 출력하기\n",
    "# 변수를 동시에 할당하는 법과, 연산의 결괄를 변수에 할당하는 방법을 배웁니다.\n",
    "\n",
    "int1,int2 = 4,2 # int타입의 변수 동시할당\n",
    "\n",
    "add,sub = int1+int2, int1-int2 #sub = substract 뺼셈의 약어\n",
    "mul,div = int1*int2, int1/int2 #mul = multiple 곱셈의 약어 div =divide 나눗셈의 약어 \n",
    "quo,rem = int1 // int2, int1 % int2 # quo = Quotient 나눗셈에서 몫을 의미, rem = Remainder 나눗셈에서 나머지를 의미\n",
    "pow = int1 ** int2 # power 거듭제곱을 의미하는 수학용어\n",
    "\n",
    "print(add, sub, mul,div,quo,rem,pow)"
   ]
  },
  {
   "cell_type": "code",
   "execution_count": 13,
   "metadata": {},
   "outputs": [
    {
     "name": "stdout",
     "output_type": "stream",
     "text": [
      "1 0 1 0\n"
     ]
    }
   ],
   "source": [
    "#Exercise 1-5: 홀수 짝수 구하기\n",
    "#n의 배수인 수들의 특징을 % 연산자를 통해 확인\n",
    "int1, int2, int3, int4 = 1,2,3,4\n",
    "div = 2\n",
    "\n",
    "rem1, rem2, rem3, rem4 = int1%div, int2%div, int3%div, int4%div\n",
    "\n",
    "print(rem1,rem2,rem3,rem4) # 2를 통해 나누어는 수들은 짝수이다! 짝수를 표현하는 방법을 풀어서 설명하자면,2로 나누었을떄 나머지 0은 수이다."
   ]
  },
  {
   "cell_type": "markdown",
   "metadata": {},
   "source": [
    "복합 대입 연산자"
   ]
  },
  {
   "cell_type": "markdown",
   "metadata": {},
   "source": [
    "#Exercise 1-6: 자기 자신에 연산하기\n",
    "#복합대입연산자 사용법의 필요성과 사용방법에 대해 배웁니다.\n",
    "https://wikidocs.net/20705 - 복합 대입 연산자 표\n",
    "\n",
    "\n",
    "- 복합 대입 연산자(Compound Assignment Operator)는 연산(Operation)과 할당(Assignment)을 합쳐놓은것\n",
    "- Opeatration은 수학작인 계산이나 작업을 의미함(ex 사칙연산)\n",
    "- Assignment는 값을 변수에 저장하는 작업을 의미한다."
   ]
  },
  {
   "cell_type": "code",
   "execution_count": 16,
   "metadata": {},
   "outputs": [
    {
     "name": "stdout",
     "output_type": "stream",
     "text": [
      "10\n",
      "20\n",
      "18\n",
      "90\n",
      "18.0\n",
      "324.0\n"
     ]
    }
   ],
   "source": [
    "\n",
    "# Exercise 1-6 자기 자신에 연산하기\n",
    "# 복합대입 연산자 사용법의 필요성과 사용방법에 대해 배웁니다.\n",
    "score = 10\n",
    "print(score)\n",
    "score += 10\n",
    "print(score)\n",
    "score -=2\n",
    "print(score)\n",
    "score *= 5\n",
    "print(score)\n",
    "score /= 5\n",
    "print(score)\n",
    "score **= 2\n",
    "print(score)"
   ]
  },
  {
   "cell_type": "code",
   "execution_count": null,
   "metadata": {},
   "outputs": [],
   "source": [
    "#Exercise 1-7 수학점수의 합 구하기\n",
    "#수학식(sigma)을 코드로 만드는 연습을 해봅니다.\n",
    "score1 = 10\n",
    "score"
   ]
  },
  {
   "cell_type": "code",
   "execution_count": 17,
   "metadata": {},
   "outputs": [
    {
     "name": "stdout",
     "output_type": "stream",
     "text": [
      "60\n"
     ]
    }
   ],
   "source": [
    "# Exercise. 1-7: 수학점수의 합 구하기\n",
    "#수학식(Sigma)을 코드로 만드는 연습을 해봅니다.\n",
    "score1 = 10\n",
    "score2 = 20\n",
    "score3 = 30\n",
    "\n",
    "sumscore = (score1+score2+score3) # 선생님 책과의 차이점은 sum_score로 밑에 언더바를 해줌 , 아마 의미별로 묶기 위해서 쓰인것 같음, 더 좋은 코드를 위해서는 sum_score로 적자.\n",
    "\n",
    "print(sumscore) "
   ]
  },
  {
   "cell_type": "code",
   "execution_count": 19,
   "metadata": {},
   "outputs": [
    {
     "name": "stdout",
     "output_type": "stream",
     "text": [
      "20.0\n"
     ]
    }
   ],
   "source": [
    "#Exercise. 1-8 : 수학점수의 평균 구하기\n",
    "# 수학식 (data들의 평균)을 코드로 만드는 연습을 해봅니댜.\n",
    "\n",
    "score1 = 10\n",
    "score2 = 20\n",
    "score3 = 30\n",
    "n_student = 3 # 학생수 number student\n",
    "\n",
    "student_score_avg = (score1+score2+score3)/n_student #나는 여기서 avg라고 적었지만 강사님의 책에서는 mean으로 평균의 변수를 지정함, \n",
    "\n",
    "print(student_score_avg)"
   ]
  },
  {
   "cell_type": "code",
   "execution_count": null,
   "metadata": {},
   "outputs": [],
   "source": [
    "# mean  Fuction Operation\n",
    "\n",
    "numbers = [3, 5, 7, 2, 8] \n",
    "average = sum(numbers) / len(numbers) #Q.프로그래밍에서는 len(numbers)로 숫자개수를 나타내는거 같음!, 약간 관습적인 표현인듯? A.보통 각 데이터의 항목을 알아내기 위해 사용합"
   ]
  },
  {
   "cell_type": "code",
   "execution_count": 2,
   "metadata": {},
   "outputs": [
    {
     "name": "stdout",
     "output_type": "stream",
     "text": [
      "20.0\n",
      "20.0\n"
     ]
    }
   ],
   "source": [
    "#Exercise 1-9\n",
    "#추가점수를 받은 학생들의 평균\n",
    "#복합 대입 연산자를 이용해 학생들의 점수를 수정하고, 평균을 다시 구해봅니다. 이를 통해 모든 data가 같은 값으로 변했을 떄, 평균이 어떻게 바뀌는지 확인해봅니다.(Additivity=가산성)\n",
    "\n",
    "score1 = 10\n",
    "score2 = 20\n",
    "score3 = 30\n",
    "n_student = 3\n",
    "\n",
    "mean = (score1 + score2 + score3)/n_student\n",
    "print(mean)\n",
    "\n",
    "score1 += 10\n",
    "score2 += 10\n",
    "score3 += 10\n",
    "print(mean) #여기서 print 해주는 이유는 mean에 기존의 평균값이 그대로 저장되어 있기떄문에 값을 업데이트 해주어야한다.\n",
    "\n",
    "mean + (score1 + score2 + score3)/n_student\n",
    "print(mean)"
   ]
  },
  {
   "cell_type": "markdown",
   "metadata": {},
   "source": [
    "https://calcproject.tistory.com/663 - 시그마의 의미\n",
    "https://kimhaksung.tistory.com/entry/simtong01-3 - 글로푼 시그마의 예시, "
   ]
  },
  {
   "cell_type": "markdown",
   "metadata": {},
   "source": [
    "Mean Substratction을 하는 이유\n",
    "\n",
    "\n",
    "1.데이터 비교가 쉬워집니다: 평균을 0으로 만들면, 데이터를 비교하기가 더 쉬워집니다. 예를 들어, 한 학생이 점수 70점을 받고 다른 학생이 60점을 받았다면, 그 차이는 10점입니다. 하지만 두 학생의 점수가 평균이 65점인 경우, 두 학생의 점수 차이가 동일하게 5점씩으로 비교하기가 더 용이해집니다.\n",
    "\n",
    "2.데이터 스케일을 맞춰줍니다: 어떤 데이터는 범위가 크고 어떤 데이터는 작을 수 있습니다. 예를 들어, 한 학생의 수학 점수는 95점부터 100점 사이에 있을 수 있고, 다른 학생의 수학 점수는 0점부터 100점까지일 수 있습니다. 이런 차이를 조정해서 데이터를 일관된 크기로 만들어주면, 머신 러닝 알고리즘들이 더 효과적으로 작동할 수 있어요.\n",
    "\n",
    "3.이상치에 민감하지 않습니다: 이상치란 데이터 집합에서 일반적인 패턴에서 크게 벗어난 값들을 의미합니다. 이상치가 있는 경우, 평균을 0으로 만들면 이상치의 영향을 줄일 수 있습니다. 즉, 몇몇 이상치가 결과에 큰 영향을 미치지 않도록 도와줍니다.\n",
    "\n",
    "요약하면, 데이터를 평균을 0으로 만들면 데이터를 비교하기가 쉽고, 다양한 범위의 데이터를 효과적으로 다룰 수 있으며, 이상치에 민감하지 않게 됩니다. 이렇게 데이터를 가공하면 머신 러닝 모델을 더 잘 훈련시키고 데이터 분석을 더 정확하게 수행할 수 있게 됩니다."
   ]
  },
  {
   "cell_type": "code",
   "execution_count": 3,
   "metadata": {},
   "outputs": [
    {
     "name": "stdout",
     "output_type": "stream",
     "text": [
      "0.0\n"
     ]
    }
   ],
   "source": [
    "#Exercise 1-10 : Mean Subtraction (평균 뺼셈)\n",
    "#수학식(mean substratction)을 코드로 만드는 연습\n",
    "\n",
    "score1 = 10\n",
    "score2 = 20\n",
    "score3 = 30\n",
    "n_student = 3\n",
    "\n",
    "score_mean = (score1 + score2+ score3)\n",
    "n_student = 3\n",
    "\n",
    "score_mean = (score1 + score2 + score3)/n_student\n",
    "\n",
    "score1 -= score_mean\n",
    "score2 -= score_mean\n",
    "score3 -= score_mean\n",
    "\n",
    "score_mean = (score1 + score2 + score3)/n_student\n",
    "print(score_mean)"
   ]
  },
  {
   "cell_type": "markdown",
   "metadata": {},
   "source": [
    "x := x − μ \n",
    " 변수 x값을 μ(뮤)라는 값만큼 감소시키는 작업, 이런 종류의 식은 주로 프로그래밍이나 수학에서 사용되며, 변수를 업데이트하거나 값을 조정할 때 유용합니다.\n",
    "\n",
    "여기에 각 요소의 설명을 제공하겠습니다:\n",
    "\n",
    "x -  변수 또는 값의 이름입니다. 이 식에서 x는 어떤 값을 나타냅니다.\n",
    "\n",
    ":= (할당 연산자) -  :=는 변수에 값을 할당할 때 사용하는 연산자입니다. 이 연산자는 변수에 새로운 값을 할당합니다.\n",
    "\n",
    "μ (뮤) - 이 값은 μ(뮤)라는 그리스 문자로 나타낸 상수입니다. 이 값은 x에서 빼서 변수 x의 값을 조정하게 됩니다. 뮤(μ)는 보통 어떤 목적을 위해 사용되는 상수값을 나타냅니다.\n",
    "\n"
   ]
  },
  {
   "cell_type": "code",
   "execution_count": 8,
   "metadata": {},
   "outputs": [
    {
     "name": "stdout",
     "output_type": "stream",
     "text": [
      "400.0\n",
      "9166.666666666666\n"
     ]
    }
   ],
   "source": [
    "#Exercise.1-11 : 평균의 제곱과 제곱의 평균\n",
    "#수학식(평균의 제곱과 제곱의 평균)을 코드로 만드는 연습을 해봅니다.\n",
    "#1.평균의 제곱구하기 2.제곱의 평균 구하기\n",
    "\n",
    "score1 = 10\n",
    "score2 = 20\n",
    "score3 = 30\n",
    "n_student = 3 \n",
    "\n",
    "mean = (score1 + score2 + score3)/n_student\n",
    "mean_of_square = mean**2 # mean_of_square = (scroe1**2 + scroe2**2 + score3**2)/n_student, 변수의 이름이 mean_of_square인 이유는 square가 제곱의 뜻을 가지고 있다! mean은 평균의 의미이므로 square_of_mean은 평균의 제곱이라는 의미이다.\n",
    "print(mean_of_square)\n",
    "\n",
    "square_of_mean = (score1**2+score2**2+score3**3)/n_student\n",
    "print(square_of_mean)\n",
    "\n",
    "\n",
    "\n",
    "#mean = "
   ]
  },
  {
   "cell_type": "markdown",
   "metadata": {},
   "source": [
    "# Exercise1 -12 : 분산과 표준편차 "
   ]
  },
  {
   "cell_type": "code",
   "execution_count": 11,
   "metadata": {},
   "outputs": [
    {
     "name": "stdout",
     "output_type": "stream",
     "text": [
      "mean: 20.0\n",
      "variance: 66.66666666666669\n",
      "standard deviation: 8.16496580927726\n"
     ]
    }
   ],
   "source": [
    "# Exercise1 -12 : 분산과 표준편차 \n",
    "score1 = 10\n",
    "score2 = 20\n",
    "score3 = 30\n",
    "n_student = 3\n",
    "\n",
    "score_mean = (score1 + score2 + score3)/n_student\n",
    "square_of_mean = score_mean**2\n",
    "mean_of_square = (score1**2 + score2**2 + score3**2)/n_student\n",
    "\n",
    "score_variance = mean_of_square - square_of_mean\n",
    "score_std = score_variance ** 0.5\n",
    "\n",
    "print(\"mean:\", score_mean)\n",
    "\n",
    "print(\"variance:\", score_variance)\n",
    "\n",
    "print(\"standard deviation:\", score_std)"
   ]
  },
  {
   "cell_type": "code",
   "execution_count": 19,
   "metadata": {},
   "outputs": [
    {
     "name": "stdout",
     "output_type": "stream",
     "text": [
      "mean:  20.0\n",
      "standard deviation: 8.16496580927726\n",
      "mean:  0.0\n",
      "standard deviation:  (1.223115032695291e-15+19.974984355438178j)\n"
     ]
    }
   ],
   "source": [
    "# Exercise1-13 : Standardization \n",
    "# 분산과 표준편차를 이용하여, 수학식(Standardization)을 코드롤 만드는 연습을 해봅니다.\n",
    "\n",
    "score1 = 10\n",
    "score2 = 20\n",
    "score3 = 30\n",
    "n_student = 3\n",
    "\n",
    "score_mean = (score1 + score2 + score3)/n_student\n",
    "square_of_mean = score_mean**2\n",
    "mean_of_square = (score1**2 + score2**2 + score3**3)/n_student\n",
    "score_std = score_variance**0.5\n",
    "\n",
    "print(\"mean: \",score_mean)\n",
    "\n",
    "print(\"standard deviation: \",score_std)\n",
    "\n",
    "score1 = (score1 - score_mean)/score_std\n",
    "score2 = (score2 - score_mean)/score_std\n",
    "score3 = (score3 - score_mean)/score_std\n",
    "\n",
    "score_mean = (score1 + score2 + score3)/n_student\n",
    "square_of_mean = mean**2\n",
    "mean_of_square = (score1**2 + score2**2 + score3**2)/n_student\n",
    "score_variance = mean_of_square - square_of_mean\n",
    "score_std = score_variance**0.5\n",
    "\n",
    "print(\"mean: \", score_mean)\n",
    "print(\"standard deviation: \", score_std)"
   ]
  },
  {
   "cell_type": "code",
   "execution_count": null,
   "metadata": {},
   "outputs": [],
   "source": []
  }
 ],
 "metadata": {
  "kernelspec": {
   "display_name": "Python 3",
   "language": "python",
   "name": "python3"
  },
  "language_info": {
   "codemirror_mode": {
    "name": "ipython",
    "version": 3
   },
   "file_extension": ".py",
   "mimetype": "text/x-python",
   "name": "python",
   "nbconvert_exporter": "python",
   "pygments_lexer": "ipython3",
   "version": "3.11.5"
  },
  "orig_nbformat": 4
 },
 "nbformat": 4,
 "nbformat_minor": 2
}
