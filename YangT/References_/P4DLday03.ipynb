{
 "cells": [
  {
   "cell_type": "code",
   "execution_count": null,
   "metadata": {},
   "outputs": [],
   "source": []
  },
  {
   "cell_type": "code",
   "execution_count": 146,
   "metadata": {},
   "outputs": [
    {
     "name": "stdout",
     "output_type": "stream",
     "text": [
      "sum of scores: [180, 120, 0, 0]\n",
      "mean of scores: [60.0, 40.0]\n"
     ]
    }
   ],
   "source": [
    "math_scores = [40,60,80]\n",
    "english_scores = [30,40,50]\n",
    "\n",
    "n_class = 2\n",
    "n_student = len(math_scores)\n",
    "\n",
    "score_sums = [0] * n_class\n",
    "score_means = list()\n",
    "\n",
    "for _ in range(n_class): # 임시로 쓰는 변수로 이해하기 위해 _를 넣는다\n",
    "    score_sums.append(0)\n",
    "\n",
    "for student_idx in range(n_student):\n",
    "    score_sums[0] += math_scores[student_idx]\n",
    "    score_sums[1] += english_scores[student_idx]\n",
    "\n",
    "print(\"sum of scores:\",score_sums)\n",
    "\n",
    "for class_idx in range(n_class):\n",
    "    class_mean = score_sums[class_idx]/n_student\n",
    "    score_means.append(class_mean)\n",
    "\n",
    "print(\"mean of scores:\",score_means)"
   ]
  },
  {
   "cell_type": "code",
   "execution_count": 147,
   "metadata": {},
   "outputs": [
    {
     "name": "stdout",
     "output_type": "stream",
     "text": [
      "Math scores after mean subtraction: [-20.0, 0.0, 20.0]\n",
      "English scores after mean suvtraction:  [-10.0, 0.0, 10.0]\n"
     ]
    }
   ],
   "source": [
    "math_score = [40,60,80]\n",
    "english = [30,40,50]\n",
    "n_studnet = len(math_score)\n",
    "\n",
    "\n",
    "math_score_mean = sum(math_score) / n_student\n",
    "english_score_mean = sum(english_scores) / n_student\n",
    "\n",
    "\n",
    "\n",
    "for student_idx in range(n_studnet):\n",
    "    math_score[student_idx] -= score_means[0]\n",
    "    english_scores[student_idx] -= score_means[1]\n",
    "\n",
    "print (\"Math scores after mean subtraction:\", math_score)\n",
    "print(\"English scores after mean suvtraction: \", english_scores)"
   ]
  },
  {
   "cell_type": "code",
   "execution_count": 148,
   "metadata": {},
   "outputs": [
    {
     "name": "stdout",
     "output_type": "stream",
     "text": [
      "variance: 66.66666666666669\n",
      "standard deviatation: 8.16496580927726\n"
     ]
    }
   ],
   "source": [
    "#1-49 분산과 표준펴차\n",
    "\n",
    "scores = [10,20,30]\n",
    "n_student = len(scores)\n",
    "score_sums, score_square_sum = 0,0\n",
    "\n",
    "for score in scores:\n",
    "    score_sums += score\n",
    "    score_square_sum += score**2\n",
    "\n",
    "mean = score_sums / n_student\n",
    "square_of_mean = mean**2\n",
    "mean_of_square = score_square_sum / n_student\n",
    "\n",
    "variance = mean_of_square - square_of_mean\n",
    "std = variance**0.5\n",
    "\n",
    "print(\"variance:\",variance)\n",
    "print(\"standard deviatation:\", std)"
   ]
  },
  {
   "cell_type": "code",
   "execution_count": 149,
   "metadata": {},
   "outputs": [
    {
     "name": "stdout",
     "output_type": "stream",
     "text": [
      "40.0\n",
      "(1.581012219361306e-15+25.81988897471611j)\n",
      "[(-6.527389371520527e-17+1.066003581778052j), (-5.221911497216421e-17+0.8528028654224417j), (-3.916433622912316e-17+0.6396021490668312j)]\n",
      "mean: 60.0\n",
      "standard deviation: (2.872051323469032e-15+46.9041575982343j)\n"
     ]
    }
   ],
   "source": [
    "# 1-50 data index를 이용하혀 standardization 하는 방법에 대해 복습\n",
    "\n",
    "\n",
    "scores = [10,20,30]\n",
    "n_student = len(scores)\n",
    "scores_sums,scores_square_sum = 0,0\n",
    "\n",
    "\n",
    "for score in scores:\n",
    "    score_sums += score\n",
    "    score_square_sum += score**2\n",
    "\n",
    "\n",
    "mean = score_sums / n_student\n",
    "square_of_mean = mean**2\n",
    "mean_of_square = score_square_sum / n_student\n",
    "\n",
    "variance = mean_of_square - square_of_mean\n",
    "std = variance**0.5\n",
    "\n",
    "\n",
    "print(mean)\n",
    "print(std)\n",
    "\n",
    "\n",
    "for score in scores:\n",
    "    score_sums += score\n",
    "    score_square_sum += score**2\n",
    "\n",
    "\n",
    "mean = score_sums / n_student\n",
    "square_of_mean = mean**2\n",
    "mean_of_square = score_square_sum / n_student\n",
    "\n",
    "variance = mean_of_square - square_of_mean\n",
    "std = variance**0.5\n",
    "\n",
    "\n",
    "# ex0~49 : 분산과 표준편차(3)\n",
    "for student_idx in range(n_student):\n",
    "    scores[student_idx] = (scores[student_idx] - mean) / std\n",
    "print(scores)\n",
    "\n",
    "\n",
    "\n",
    "# ex0~49\n",
    "print(\"mean:\", mean)\n",
    "\n",
    "print(\"standard deviation:\",std)\n",
    "\n",
    "\n",
    "#STD 평균이 0이되고 표준편차가 1이된다. 58퍼센트 "
   ]
  },
  {
   "cell_type": "code",
   "execution_count": 150,
   "metadata": {},
   "outputs": [
    {
     "name": "stdout",
     "output_type": "stream",
     "text": [
      "mean.std of Math:  60.0 8.164965809277252\n",
      "mean.std of English:  40.0 8.164965809277264\n"
     ]
    }
   ],
   "source": [
    "math_scores, english_scores = [50,60,70], [30,40,50]\n",
    "n_student = len(math_scores)\n",
    "\n",
    "math_sum, english_sum = 0, 0\n",
    "math_square_sum, english_square_sum = 0, 0\n",
    "\n",
    "for student_idx in range(n_student):\n",
    "    math_sum += math_scores[student_idx]\n",
    "    math_square_sum += math_scores[student_idx]**2\n",
    "\n",
    "    english_sum += english_scores[student_idx]\n",
    "    english_square_sum += english_scores[student_idx]**2\n",
    "\n",
    "math_mean = math_sum / n_student\n",
    "english_mean = english_sum / n_student\n",
    "\n",
    "math_variance = math_square_sum/n_student - math_mean**2\n",
    "english_variance = english_square_sum/n_student - english_mean**2\n",
    "\n",
    "math_std = math_variance**0.5\n",
    "english_std = english_variance**0.5\n",
    "\n",
    "print(\"mean.std of Math: \",math_mean, math_std)\n",
    "print(\"mean.std of English: \",english_mean, english_std)"
   ]
  },
  {
   "cell_type": "code",
   "execution_count": 151,
   "metadata": {},
   "outputs": [
    {
     "name": "stdout",
     "output_type": "stream",
     "text": [
      "mean.std of Math:  60.0 8.164965809277252\n",
      "mean.std of English:  40.0 8.164965809277264\n",
      "Math scores after standardization: [-1.2247448713915903, 0.0, 1.2247448713915903]\n",
      "English scores after standardization: [-1.2247448713915885, 0.0, 1.2247448713915885]\n",
      "mean/std of math: 0.0 1.0000000000000009\n",
      "mean/std of english: 0.0 0.9999999999999996\n"
     ]
    }
   ],
   "source": [
    "# 1-52\n",
    "#DATA index를 통해 두 List애 대해 Standardization 하는 방법에 대해 학습합니다.\n",
    "math_scores,english_scores = [50,60,70], [30,40,50] # \n",
    "\n",
    "n_student = len(math_scores) #학생의 평균 구하기 \n",
    "\n",
    "math_sum, english_sum = 0, 0  # 변수만들기 \n",
    "math_square_sum, english_square_sum = 0, 0 # 변수만들기 \n",
    "\n",
    "for student_idx in range(n_student):\n",
    "    math_sum += math_scores[student_idx]   # 수학점수의 합 구하기 \n",
    "    math_square_sum += math_scores[student_idx]**2\n",
    "\n",
    "    english_sum += english_scores[student_idx] # 영어점수의 합 구히기\n",
    "    english_square_sum += english_scores[student_idx]**2 \n",
    "\n",
    "math_mean = math_sum / n_student\n",
    "english_mean = english_sum / n_student\n",
    "\n",
    "math_variance = math_square_sum/n_student - math_mean**2 # 분산 구하기 = 평제 - 제평\n",
    "english_variance = english_square_sum/n_student - english_mean**2 # 위와 같음\n",
    "\n",
    "math_std = math_variance**0.5  #정규화 분산에 루트 \n",
    "english_std = english_variance**0.5\n",
    "\n",
    "print(\"mean.std of Math: \",math_mean, math_std)   # 수학 정규화의 평균 \n",
    "print(\"mean.std of English: \",english_mean, english_std) \n",
    "\n",
    "\n",
    "for student_idx in range(n_student):\n",
    "    math_scores[student_idx] = (math_scores[student_idx] - math_mean)/math_std\n",
    "    english_scores[student_idx] = (english_scores[student_idx]- english_mean)/english_std\n",
    "\n",
    "print(\"Math scores after standardization:\", math_scores)\n",
    "print(\"English scores after standardization:\", english_scores)\n",
    "\n",
    "n_student = len(math_scores)\n",
    "\n",
    "math_sum, english_sum = 0, 0\n",
    "math_square_sum, english_square_sum = 0, 0\n",
    "\n",
    "for student_idx in range(n_student):\n",
    "    math_sum += math_scores[student_idx]\n",
    "    math_square_sum += math_scores[student_idx]**2\n",
    "\n",
    "    english_sum += english_scores[student_idx]\n",
    "    english_square_sum += english_scores[student_idx]**2\n",
    "\n",
    "math_mean = math_sum / n_student\n",
    "english_mean = english_sum / n_student\n",
    "\n",
    "math_variance = math_square_sum/n_student - math_mean**2\n",
    "english_variance = english_square_sum/n_student - english_mean**2\n",
    "\n",
    "math_std = math_variance**0.5\n",
    "english_std = english_variance**0.5\n",
    "\n",
    "\n",
    "\n",
    "print(\"mean/std of math:\",math_mean, math_std)\n",
    "print(\"mean/std of english:\",english_mean,english_std)\n",
    "\n",
    "\n"
   ]
  },
  {
   "cell_type": "code",
   "execution_count": 152,
   "metadata": {},
   "outputs": [
    {
     "name": "stdout",
     "output_type": "stream",
     "text": [
      "[10, 40, 90, 160, 250]\n",
      "[10, 40, 90, 160, 250]\n"
     ]
    }
   ],
   "source": [
    "# 원소별 곱셈 HADAMRARD PRODUCT \n",
    "\n",
    "v1 =[1,2,3,4,5]\n",
    "v2 =[10,20,30,40,50]\n",
    "\n",
    "#method.1\n",
    "v3 = list()\n",
    "for dim_idx in range(len(v1)):\n",
    "    v3.append(v1[dim_idx]*v2[dim_idx])\n",
    "print(v3)\n",
    "\n",
    "# method.2\n",
    "v3 = list()\n",
    "for _ in range(len(v1)):\n",
    "    v3.append(0)\n",
    "\n",
    "    \n",
    "for dim_idx in range(len(v1)):\n",
    " v3[dim_idx] = v1[dim_idx] * v2[dim_idx]\n",
    "\n",
    "print(v3)   "
   ]
  },
  {
   "cell_type": "code",
   "execution_count": 153,
   "metadata": {},
   "outputs": [
    {
     "name": "stdout",
     "output_type": "stream",
     "text": [
      "norm of v1: 3.7416573867739413\n"
     ]
    }
   ],
   "source": [
    "#54\n",
    "\n",
    "v1 = [1,2,3]\n",
    "\n",
    "square_sum = 0\n",
    "for dim_val in v1:\n",
    "    square_sum += dim_val**2\n",
    "\n",
    "norm = square_sum**0.5\n",
    "print(\"norm of v1:\", norm)"
   ]
  },
  {
   "cell_type": "code",
   "execution_count": 154,
   "metadata": {},
   "outputs": [
    {
     "name": "stdout",
     "output_type": "stream",
     "text": [
      "norm of v1: 3.7416573867739413\n",
      "norm of v1: 3.7416573867739413\n",
      "norm of v1: 1.0\n"
     ]
    }
   ],
   "source": [
    "#55\n",
    "\n",
    "v1 = [1,2,3]\n",
    "\n",
    "print(\"norm of v1:\", norm)\n",
    "\n",
    "square_sum = 0\n",
    "for dim_val in v1:\n",
    "    square_sum += dim_val**2\n",
    "\n",
    "norm = square_sum**0.5\n",
    "print(\"norm of v1:\", norm)\n",
    "\n",
    "for dim_idx in range(len(v1)):\n",
    "    v1[dim_idx] /= norm\n",
    "\n",
    "#print(\"norm of v1:\", norm)\n",
    "\n",
    "\n",
    "square_sum = 0\n",
    "for dim_val in v1:\n",
    "    square_sum += dim_val**2\n",
    "\n",
    "norm = square_sum**0.5\n",
    "\n",
    "\n",
    "print(\"norm of v1:\", norm)\n",
    "\n"
   ]
  },
  {
   "cell_type": "markdown",
   "metadata": {},
   "source": [
    "Dot produch 곱의 합\n"
   ]
  },
  {
   "cell_type": "code",
   "execution_count": 155,
   "metadata": {},
   "outputs": [
    {
     "name": "stdout",
     "output_type": "stream",
     "text": [
      "dot product of v1 and v2: 26\n"
     ]
    }
   ],
   "source": [
    "v1, v2 = [1,2,3],[3,4,5]\n",
    "\n",
    "dot_prod = 0\n",
    "for dim_idx in range(len(v1)):\n",
    "    dot_prod += v1[dim_idx]*v2[dim_idx]\n",
    "\n",
    "print(\"dot product of v1 and v2:\", dot_prod)"
   ]
  },
  {
   "cell_type": "markdown",
   "metadata": {},
   "source": [
    "유클리디언 거리"
   ]
  },
  {
   "cell_type": "code",
   "execution_count": 156,
   "metadata": {},
   "outputs": [
    {
     "name": "stdout",
     "output_type": "stream",
     "text": [
      "Enclidean distance between v1 and v2: 3.4641016151377544\n"
     ]
    }
   ],
   "source": [
    "#Mean Squared Error\n",
    "\n",
    "v1, v2 = [1,2,3],[3,4,5]\n",
    "\n",
    "diff_square_sum = 0 # diff(difference) 다른 제곱의 합\n",
    "for dim_idx in range(len(v1)): # 디멘션(공간의)길이 범위는 v1의 길이까지 반복한다.\n",
    "    diff_square_sum += (v1[dim_idx]-v2[dim_idx])**2 #\n",
    "e_distance = diff_square_sum**0.5\n",
    "\n",
    "print(\"Enclidean distance between v1 and v2:\", e_distance)"
   ]
  },
  {
   "cell_type": "code",
   "execution_count": 157,
   "metadata": {},
   "outputs": [
    {
     "name": "stdout",
     "output_type": "stream",
     "text": [
      "MSE: 41.666666666666664\n"
     ]
    }
   ],
   "source": [
    "# 1- 58\n",
    "predictions = [10,20,30]\n",
    "labels = [10,25,40]\n",
    "\n",
    "n_data = len(predictions)\n",
    "diff_square_sum = 0\n",
    "\n",
    "for data_idx in range(n_data):\n",
    "    diff_square_sum += (predictions[data_idx] - labels[data_idx])**2\n",
    "mse = diff_square_sum/n_data\n",
    "print(\"MSE:\", mse)"
   ]
  },
  {
   "cell_type": "code",
   "execution_count": 158,
   "metadata": {},
   "outputs": [
    {
     "name": "stdout",
     "output_type": "stream",
     "text": [
      "[1, 3, 4, 3, 4]\n"
     ]
    }
   ],
   "source": [
    "#59 숫자 빈도 구하기\n",
    "\n",
    "numbers = [0,2,4,2,1,4,3,1,2,3,4,1,2,3,4]\n",
    "number_cnt = [0,0,0,0,0]\n",
    "\n",
    "for num in numbers:\n",
    "    number_cnt[num] += 1\n",
    "print(number_cnt)"
   ]
  },
  {
   "cell_type": "code",
   "execution_count": 159,
   "metadata": {},
   "outputs": [
    {
     "name": "stdout",
     "output_type": "stream",
     "text": [
      "pass!\n"
     ]
    }
   ],
   "source": [
    "#60 if statement의 기본적인 사용법\n",
    "#statement는 컴퓨터 프로그래밍에서 실행가능한 최소 단위의 코드 조각을 나타냅니다.테이먼트는 프로그램의 동작을 정의하고 제어합니다. 다른 말로 하면, 스테이먼트는 프로그램이 무엇을 수행해야 하는지를 명시적으로 표현하는 것입니다.\n",
    "\n",
    "score = 60\n",
    "if score > 50:\n",
    "    print(\"pass!\")"
   ]
  },
  {
   "cell_type": "code",
   "execution_count": 160,
   "metadata": {},
   "outputs": [
    {
     "name": "stdout",
     "output_type": "stream",
     "text": [
      "Try Again!\n"
     ]
    }
   ],
   "source": [
    "#61\n",
    "#if ~else의 사용법을  익혀봅니다.\n",
    "\n",
    "score = 40\n",
    "cutoff = 50\n",
    "\n",
    "if score > cutoff:\n",
    "    print(\"pass!\")\n",
    "else:\n",
    "    print(\"Try Again!\")    "
   ]
  },
  {
   "cell_type": "code",
   "execution_count": 161,
   "metadata": {},
   "outputs": [
    {
     "name": "stdout",
     "output_type": "stream",
     "text": [
      "3 min 20 sec\n"
     ]
    }
   ],
   "source": [
    "# 1-62 초를 분초로 표현하기\n",
    "#if ~else ~의 사용법을 익혀봅니다\n",
    "\n",
    "seconds = 200\n",
    "\n",
    "if seconds >= 60:\n",
    "    minutes = seconds // 60\n",
    "    seconds -= minutes*60\n",
    "else:\n",
    "    minutes = 0\n",
    "\n",
    "print(minutes,\"min\",seconds,\"sec\")"
   ]
  },
  {
   "cell_type": "code",
   "execution_count": 162,
   "metadata": {},
   "outputs": [
    {
     "name": "stdout",
     "output_type": "stream",
     "text": [
      "1 hour 83 minutes 5000 seconds\n"
     ]
    }
   ],
   "source": [
    "# seconds = 5000\n",
    "\n",
    "seconds = 5000\n",
    "\n",
    "minutes = seconds // 60\n",
    "\n",
    "hour = minutes //60\n",
    "\n",
    "if hour >= minutes*60:\n",
    "     hour = minutes // 60\n",
    "     minutes -= seconds*60\n",
    "\n",
    "else:\n",
    "    seconds >= 60\n",
    "    minutes = seconds // 60\n",
    "\n",
    "\n",
    "print(hour,\"hour\",minutes,\"minutes\",seconds,\"seconds\")"
   ]
  },
  {
   "cell_type": "code",
   "execution_count": 163,
   "metadata": {},
   "outputs": [
    {
     "ename": "SyntaxError",
     "evalue": "expected '(' (1600240740.py, line 8)",
     "output_type": "error",
     "traceback": [
      "\u001b[0;36m  Cell \u001b[0;32mIn[163], line 8\u001b[0;36m\u001b[0m\n\u001b[0;31m    def clock\u001b[0m\n\u001b[0m             ^\u001b[0m\n\u001b[0;31mSyntaxError\u001b[0m\u001b[0;31m:\u001b[0m expected '('\n"
     ]
    }
   ],
   "source": [
    "need_number = 5000\n",
    "\n",
    "seconds = 60\n",
    "minutes = seconds // 60\n",
    "hour = minutes // 60\n",
    "\n",
    "\n",
    "def clock\n",
    "\n",
    "\n",
    "\n",
    "if hour >= 3600:\n",
    "    hour = minutes // 60\n",
    "    minutes -= seconds*60\n",
    "print(hour)     \n",
    "     \n",
    "#if minutes >= 60:\n",
    "      \n",
    "#else:\n",
    "#     hour\n",
    "\"\"\"else:\n",
    "    hour = 0\"\"\"\n",
    "\n",
    "print(hour,minutes)\n",
    "\n",
    "\n",
    "\n",
    "\"\"\"else:\n",
    "    seconds >= 60\n",
    "    minutes = seconds // 60\n",
    "\n",
    "\n",
    "print(hour,\"hour\",minutes,\"minutes\",seconds,\"seconds\")\"\"\""
   ]
  },
  {
   "cell_type": "code",
   "execution_count": null,
   "metadata": {},
   "outputs": [
    {
     "name": "stdout",
     "output_type": "stream",
     "text": [
      "Even!\n"
     ]
    }
   ],
   "source": [
    "# 1- 64 홀수/찍수 구하기\n",
    "# if ~ else 의 사용법을 익혀봅니다\n",
    "\n",
    "number = 10\n",
    "\n",
    "if number % 2 == 0:\n",
    "  print(\"Even!\")\n",
    "  \n",
    "else:\n",
    "   print(\"Odd!\")"
   ]
  },
  {
   "cell_type": "code",
   "execution_count": null,
   "metadata": {},
   "outputs": [
    {
     "name": "stdout",
     "output_type": "stream",
     "text": [
      "equal\n"
     ]
    }
   ],
   "source": [
    "# if ~elif ~else ~dml 사용법을 익혀봅니다.\n",
    "#1-65\n",
    "\n",
    "num1, num2 = 10, 10\n",
    "\n",
    "if num1 > num2:\n",
    "    print(\"frist number\")\n",
    "elif num1 == num2:\n",
    "     print(\"equal\")\n",
    "else:\n",
    "     print(\"seconds number\")         "
   ]
  },
  {
   "cell_type": "code",
   "execution_count": null,
   "metadata": {},
   "outputs": [
    {
     "name": "stdout",
     "output_type": "stream",
     "text": [
      "grade: B\n"
     ]
    }
   ],
   "source": [
    "# 1-66 성적으로 평점으로 바꾸기\n",
    "\n",
    "#if ~ elif ~else 의 사용법을 익혀 봅니다.\n",
    "# 80 초과 에이 60 초과 비 40 초과 시 40 이하 F\n",
    "\n",
    "\"\"\"\n",
    "score = 70\n",
    "if score > 80:\n",
    "    print(\"A\")\n",
    "elif score > 60:\n",
    "    print(\"B\")\n",
    "elif score > 40:\n",
    "    print(\"C\")\n",
    "else:\n",
    "    print(\"F\")     \n",
    "\"\"\"\n",
    "\n",
    "\n",
    "score = 70\n",
    "if score > 80:\n",
    "    grade = \"A\"\n",
    "elif score > 60:\n",
    "    grade = \"B\"\n",
    "elif score > 40:\n",
    "    grade = \"C\"\n",
    "else:\n",
    "    grade = \"F\"\n",
    "\n",
    "\n",
    "print(\"grade:\",grade)\n",
    "      "
   ]
  },
  {
   "cell_type": "code",
   "execution_count": null,
   "metadata": {},
   "outputs": [
    {
     "name": "stdout",
     "output_type": "stream",
     "text": [
      "Pass!\n",
      "Pass!\n",
      "Try Again!\n"
     ]
    }
   ],
   "source": [
    "scores = [20, 50, 10, 60, 70]\n",
    "cutoff = 50\n",
    "\n",
    "for score in scores:\n",
    "    if score > cutoff:\n",
    "        print(\"Pass!\")\n",
    "else:\n",
    "    print(\"Try Again!\")        "
   ]
  },
  {
   "cell_type": "code",
   "execution_count": 165,
   "metadata": {},
   "outputs": [
    {
     "name": "stdout",
     "output_type": "stream",
     "text": [
      "['F', 'C', 'F', 'C', 'A']\n"
     ]
    }
   ],
   "source": [
    "scores = [20,50,10,60,90]\n",
    "grades = list() #for문을 돌리게 되면 append에 의해서 원소로 추가 된다.\n",
    "\n",
    "for score in scores:\n",
    "    if score > 80:\n",
    "        grades.append('A')\n",
    "    elif score > 60:\n",
    "         grades.append('B')\n",
    "    elif score > 40:\n",
    "        grades.append('C')\n",
    "    else:\n",
    "        grades.append(\"F\") \n",
    "\n",
    "print(grades)"
   ]
  },
  {
   "cell_type": "code",
   "execution_count": 167,
   "metadata": {},
   "outputs": [
    {
     "name": "stdout",
     "output_type": "stream",
     "text": [
      "mean of passed scores: 75.0\n",
      "mean of no passed scores: 26.666666666666668\n"
     ]
    }
   ],
   "source": [
    "scores = [20,50,10,60,90]\n",
    "cutoff = 50\n",
    "\n",
    "p_score_sum, n_p = 0,0\n",
    "np_score_sum, n_np = 0,0\n",
    "\n",
    "for score in scores:\n",
    "    if score > cutoff:\n",
    "        p_score_sum += score\n",
    "        n_p += 1\n",
    "     \n",
    "    else:\n",
    "        np_score_sum += score\n",
    "        n_np += 1\n",
    "\n",
    "p_score_mean = p_score_sum/n_p\n",
    "np_score_mean = np_score_sum/n_np\n",
    "\n",
    "print(\"mean of passed scores:\", p_score_mean)\n",
    "print(\"mean of no passed scores:\", np_score_mean)"
   ]
  },
  {
   "cell_type": "code",
   "execution_count": 174,
   "metadata": {},
   "outputs": [
    {
     "name": "stdout",
     "output_type": "stream",
     "text": [
      "[0, 1, 2, 3, 4, 5, 6, 7, 8, 9, 3.14]\n",
      "Even Number\n",
      "Odd Number\n",
      "Even Number\n",
      "Odd Number\n",
      "Even Number\n",
      "Odd Number\n",
      "Even Number\n",
      "Odd Number\n",
      "Even Number\n",
      "Odd Number\n",
      "Not an Integer\n"
     ]
    }
   ],
   "source": [
    "# 1-70 append 함수의 기능 설명\n",
    "# append 함수는 각 객체(요소)를 arrary에 맨 끝에 추가해준다\n",
    "\n",
    "numbers = list()\n",
    "\n",
    "for num in range(10):\n",
    "    numbers.append(num)\n",
    "    \n",
    "numbers.append(3.14)\n",
    "print(numbers)\n",
    "\n",
    "for num in numbers:\n",
    "    if num % 2 == 0:\n",
    "        print(\"Even Number\")\n",
    "    elif num % 2 == 1:\n",
    "        print(\"Odd Number\")\n",
    "    else:\n",
    "        print(\"Not an Integer\")        "
   ]
  },
  {
   "cell_type": "code",
   "execution_count": 175,
   "metadata": {},
   "outputs": [
    {
     "name": "stdout",
     "output_type": "stream",
     "text": [
      "1683\n"
     ]
    }
   ],
   "source": [
    "# 71 n배수들의 합 구하기\n",
    "\n",
    "multiple_of = 3\n",
    "\n",
    "numbers = list()\n",
    "for num in range(100):\n",
    "    numbers.append(num)\n",
    "\n",
    "sum_multiple_of_n = 0\n",
    "for num in numbers:\n",
    "    if num % multiple_of == 0:\n",
    "        sum_multiple_of_n += num\n",
    "\n",
    "print(sum_multiple_of_n)"
   ]
  },
  {
   "cell_type": "code",
   "execution_count": 8,
   "metadata": {},
   "outputs": [
    {
     "name": "stdout",
     "output_type": "stream",
     "text": [
      "Max value:  70\n",
      "min value:  20\n"
     ]
    }
   ],
   "source": [
    "# 1-72 최댓값, 최솟값 구하기\n",
    "\n",
    "scores = [60,40,70,20,30]\n",
    "M,m = 0,100\n",
    "\n",
    "for score in scores:\n",
    "    if score > M:\n",
    "        M = score\n",
    "    \n",
    "    if score < m:\n",
    "        m = score\n",
    "\n",
    "print(\"Max value: \", M)\n",
    "print(\"min value: \", m)"
   ]
  },
  {
   "cell_type": "code",
   "execution_count": 22,
   "metadata": {},
   "outputs": [
    {
     "name": "stdout",
     "output_type": "stream",
     "text": [
      "Max value:  120\n",
      "min value:  -20\n",
      "Max value:  120\n",
      "min value:  -20\n"
     ]
    }
   ],
   "source": [
    "# 73 우리가 가진 값으로 초기화,\n",
    "\n",
    "scores = [-20,60,40,70,120]\n",
    "\n",
    "#method.1\n",
    "M, m = scores[0], scores[0]\n",
    "for score in scores:\n",
    "    if score > M:\n",
    "        M = score\n",
    "    if score < m:\n",
    "        m = score\n",
    "\n",
    "print(\"Max value: \", M)\n",
    "print(\"min value: \", m)\n",
    "\n",
    "\n",
    "# method.2\n",
    "\n",
    "M, m = None, None\n",
    "\n",
    "for score in scores:\n",
    "    if M == None or score > M:\n",
    "        M = score\n",
    "    if m == None or score < m:\n",
    "        m = score\n",
    "\n",
    "print(\"Max value: \", M)\n",
    "print(\"min value: \", m)            \n"
   ]
  },
  {
   "cell_type": "code",
   "execution_count": 25,
   "metadata": {},
   "outputs": [
    {
     "name": "stdout",
     "output_type": "stream",
     "text": [
      "Max value:  120\n",
      "min value:  -20\n"
     ]
    }
   ],
   "source": [
    "#1 -74 <정규화>\n",
    "#nomalization, stadnardization, REwonization\n",
    "#nornalzation(min-max normalizaion) 0~!\n",
    "# min max Normalization\n",
    "\n",
    "#최댓값, 최솟값을 이용하여 data 를 normalizaion 하는 방법에 대해 배워 봅시다.\n",
    "\n",
    "scores = [-20,60,40,70,120]\n",
    "\n",
    "\n",
    "M, m = None, None\n",
    "\n",
    "for score in scores:\n",
    "    if M == None or score > M:\n",
    "        M = score\n",
    "    if m == None or score < m:\n",
    "       m = score\n",
    "\n",
    "print(\"Max value: \", M)\n",
    "print(\"min value: \", m)\n",
    "\n",
    "#for score_idx in range(len(score)):\n",
    "#    scores[score_idx] = (scores[score_idx])\n",
    "\n",
    "\n",
    "\n"
   ]
  },
  {
   "cell_type": "code",
   "execution_count": null,
   "metadata": {},
   "outputs": [],
   "source": [
    "scores = [60,-20,40,120,70]\n",
    "M, m = None, None\n",
    "M_idx, m_idx = 0, 0\n",
    "\n",
    "for score_idx in range(len(scores)):\n",
    "    score = scores[score_idx]\n",
    "\n",
    "    if M == None or score > M:\n",
    "        M = score\n",
    "        M_idx = score_idx\n",
    "\n",
    "    if m == None or score < m:\n",
    "        m = score\n",
    "        m_idx = score_idx\n",
    "\n",
    " \n",
    "print(\"M/M_idx:\", M, M_idx)\n",
    "print(\"m/m_idx:\", m, m_idx)           "
   ]
  },
  {
   "cell_type": "code",
   "execution_count": 28,
   "metadata": {},
   "outputs": [
    {
     "name": "stdout",
     "output_type": "stream",
     "text": [
      "rmaining scores:  [40, 20, 30, 10]\n",
      "sorted scored:  [50] \n",
      "\n",
      "rmaining scores:  [20, 30, 10]\n",
      "sorted scored:  [50, 40] \n",
      "\n",
      "rmaining scores:  [20, 10]\n",
      "sorted scored:  [50, 40, 30] \n",
      "\n",
      "rmaining scores:  [10]\n",
      "sorted scored:  [50, 40, 30, 20] \n",
      "\n",
      "rmaining scores:  []\n",
      "sorted scored:  [50, 40, 30, 20, 10] \n",
      "\n"
     ]
    }
   ],
   "source": [
    "#최댓값, 최댓값의 위치를 이용하여 List를 정렬하는 방법에 대해 배우봅니다.\n",
    "\n",
    "scores = [40,20,30,10,50]\n",
    "sorted_scores = list()\n",
    "\n",
    "\n",
    "for _ in range(len(scores)):\n",
    "    M, M_idx = scores[0],0\n",
    "\n",
    "    for score_idx in range(len(scores)):\n",
    "        if scores[score_idx] > M:\n",
    "         M = scores[score_idx]\n",
    "         M_idx = score_idx\n",
    "\n",
    "    tmp_scores = list()\n",
    "    for score_idx in range(len(scores)):\n",
    "        if score_idx == M_idx:\n",
    "            sorted_scores.append(scores[score_idx])\n",
    "        else:\n",
    "            tmp_scores.append(scores[score_idx])\n",
    "\n",
    "    scores = tmp_scores\n",
    "\n",
    "    print(\"rmaining scores: \", scores)\n",
    "    print(\"sorted scored: \", sorted_scores, '\\n')"
   ]
  },
  {
   "cell_type": "code",
   "execution_count": null,
   "metadata": {},
   "outputs": [],
   "source": []
  }
 ],
 "metadata": {
  "kernelspec": {
   "display_name": "SeSAC",
   "language": "python",
   "name": "python3"
  },
  "language_info": {
   "codemirror_mode": {
    "name": "ipython",
    "version": 3
   },
   "file_extension": ".py",
   "mimetype": "text/x-python",
   "name": "python",
   "nbconvert_exporter": "python",
   "pygments_lexer": "ipython3",
   "version": "3.11.5"
  },
  "orig_nbformat": 4
 },
 "nbformat": 4,
 "nbformat_minor": 2
}
